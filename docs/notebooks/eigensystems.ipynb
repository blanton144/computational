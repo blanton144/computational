{
 "cells": [
  {
   "cell_type": "code",
   "execution_count": null,
   "metadata": {},
   "outputs": [],
   "source": [
    "%matplotlib notebook\n",
    "import matplotlib.pyplot as plt\n",
    "import numpy as np\n",
    "import numpy.linalg as linalg\n",
    "import scipy.sparse as sparse\n",
    "import scipy.sparse.linalg as linalgs\n",
    "from matplotlib import animation\n",
    "from IPython.display import HTML"
   ]
  },
  {
   "cell_type": "code",
   "execution_count": null,
   "metadata": {},
   "outputs": [],
   "source": [
    "import matplotlib\n",
    "matplotlib.rcParams['animation.embed_limit'] = 100."
   ]
  },
  {
   "cell_type": "code",
   "execution_count": null,
   "metadata": {},
   "outputs": [],
   "source": [
    "fig, ax = plt.subplots()\n",
    "\n",
    "ax.set_xlim(( -0.1, 1.1))\n",
    "ax.set_ylim((- 0.3, 0.3))\n",
    "\n",
    "line, = ax.plot([], [], lw=2)\n",
    "\n",
    "nframes = 500\n",
    "\n",
    "def init():\n",
    "    line.set_data([], [])\n",
    "    return (line,)"
   ]
  },
  {
   "cell_type": "markdown",
   "metadata": {},
   "source": [
    "## String"
   ]
  },
  {
   "cell_type": "code",
   "execution_count": null,
   "metadata": {},
   "outputs": [],
   "source": [
    "class StringProb():\n",
    "    \"\"\"Class for setting up a string wave eigenvector problem\"\"\"\n",
    "    def p(self, x=None):\n",
    "        \"\"\"Return the elasticity at x\"\"\"\n",
    "        return(1.) \n",
    "    def rho(self, x=None):\n",
    "        \"\"\"Return density at x\"\"\"\n",
    "        return(1.) \n",
    "    def q(self, x=None):\n",
    "        \"\"\"Return springiness at x\"\"\"\n",
    "        return(0.)\n",
    "    def __init__(self, N=201, **kwargs):\n",
    "        self.kwargs = kwargs\n",
    "        self.N = N\n",
    "        self.h = 1. / (np.float64(N) + 1.)\n",
    "        self.x = (np.arange(self.N, dtype=np.float64) + 1.) * self.h\n",
    "        diagonal = ((self.p(self.x - 0.5 * self.h) +\n",
    "                     self.p(self.x + 0.5 * self.h)) / self.h**2 \n",
    "                    + self.q(self.x)) / self.rho(self.x)\n",
    "        lower_diagonal = - (self.p(self.x[1:] - 0.5 * self.h)) / self.h**2 / self.rho(self.x[1:]) \n",
    "        upper_diagonal = - (self.p(self.x[1:] - 0.5 * self.h)) / self.h**2 / self.rho(self.x[0:-1]) \n",
    "        self.A = sparse.diags(diagonals=[lower_diagonal, diagonal, upper_diagonal],\n",
    "                              offsets=[-1, 0, 1], shape=(N, N))\n",
    "    def eig(self):\n",
    "        # Note that the sparse version of \"eig\" failed here; I know this problem should \n",
    "        # yield sines and cosines. A lesson to check your package's performance! So I \n",
    "        # work on the full matrix.\n",
    "        vals, vecs = linalg.eig(self.A.toarray())\n",
    "        isort = np.argsort(vals)\n",
    "        self.evals = vals[isort]\n",
    "        self.evecs = vecs[:, isort]\n",
    "    def set_coeffs(self, a=None, b=None):\n",
    "        self.a = a\n",
    "        self.b = b\n",
    "    def fit_coeffs(self, d=None):\n",
    "        \"\"\"Fit coefficients for eigenvectors for a set of displacements\"\"\"\n",
    "        (u, w, vt) = linalg.svd(self.evecs)\n",
    "        inz = np.where(w > 1.e-15)[0]\n",
    "        invw = np.zeros(len(w))\n",
    "        invw[inz] = 1. / w[inz] \n",
    "        einv = vt.transpose().dot(np.diag(invw)).dot(u.transpose())\n",
    "        return(einv.dot(d)) \n",
    "    def frame(self, i):\n",
    "        period =  2. * np.pi / np.sqrt(self.evals[0])\n",
    "        t = np.float64(i) / np.float64(nframes) * period * 4\n",
    "        x = self.x\n",
    "        coeffs = (self.a * np.cos(np.sqrt(self.evals) * t) +\n",
    "                  self.b * np.sin(np.sqrt(self.evals) * t))\n",
    "        y = self.evecs.dot(coeffs).flatten()\n",
    "        line.set_data(x, y)\n",
    "        return (line,)\n"
   ]
  },
  {
   "cell_type": "code",
   "execution_count": null,
   "metadata": {},
   "outputs": [],
   "source": [
    "st = StringProb()\n",
    "st.eig()\n",
    "print(st.A.toarray())"
   ]
  },
  {
   "cell_type": "code",
   "execution_count": null,
   "metadata": {},
   "outputs": [],
   "source": [
    "print(st.evals[0:30])"
   ]
  },
  {
   "cell_type": "code",
   "execution_count": null,
   "metadata": {},
   "outputs": [],
   "source": [
    "print(np.sqrt(st.evals[0:30] / st.evals[0]))"
   ]
  },
  {
   "cell_type": "code",
   "execution_count": null,
   "metadata": {},
   "outputs": [],
   "source": [
    "for i in np.arange(3):\n",
    "    plt.plot(st.x, st.evecs[:, i])"
   ]
  },
  {
   "cell_type": "code",
   "execution_count": null,
   "metadata": {},
   "outputs": [],
   "source": [
    "plt.plot(st.x, st.evecs[:, 10])"
   ]
  },
  {
   "cell_type": "code",
   "execution_count": null,
   "metadata": {},
   "outputs": [],
   "source": [
    "plt.plot(st.x, st.evecs[:, 80])\n",
    "plt.xlim(0., 0.1)"
   ]
  },
  {
   "cell_type": "code",
   "execution_count": null,
   "metadata": {},
   "outputs": [],
   "source": [
    "acoeffs = np.zeros(len(st.evals))\n",
    "acoeffs[0] = 1.\n",
    "acoeffs[1] = 0.5\n",
    "acoeffs[2] = 0.25\n",
    "\n",
    "bcoeffs = np.zeros(len(st.evals))\n",
    "\n",
    "st.set_coeffs(a=acoeffs, b=bcoeffs)\n",
    "\n",
    "# call the animator. blit=True means only re-draw the parts that have changed.\n",
    "anim = animation.FuncAnimation(fig, st.frame, init_func=init,\n",
    "                               frames=nframes, interval=40, blit=True)\n",
    "\n",
    "HTML(anim.to_jshtml())"
   ]
  },
  {
   "cell_type": "code",
   "execution_count": null,
   "metadata": {},
   "outputs": [],
   "source": [
    "initial = (- (st.x - 0.5)**4 + 0.5**4) * 4.\n",
    "coeffs = st.fit_coeffs(d=initial)\n",
    "\n",
    "plt.plot(st.x, initial)\n",
    "plt.plot(st.x, st.evecs.dot(coeffs))"
   ]
  },
  {
   "cell_type": "code",
   "execution_count": null,
   "metadata": {},
   "outputs": [],
   "source": [
    "plt.plot(coeffs)\n",
    "plt.xlim((-1., 10))"
   ]
  },
  {
   "cell_type": "code",
   "execution_count": null,
   "metadata": {},
   "outputs": [],
   "source": [
    "st.set_coeffs(a=coeffs, b=bcoeffs)\n",
    "\n",
    "# call the animator. blit=True means only re-draw the parts that have changed.\n",
    "anim = animation.FuncAnimation(fig, st.frame, init_func=init,\n",
    "                               frames=nframes, interval=40, blit=True)\n",
    "\n",
    "HTML(anim.to_jshtml())"
   ]
  },
  {
   "cell_type": "markdown",
   "metadata": {},
   "source": [
    "## String which is a bit springy"
   ]
  },
  {
   "cell_type": "code",
   "execution_count": null,
   "metadata": {},
   "outputs": [],
   "source": [
    "class StringProbSpringy(StringProb):\n",
    "    def q(self, x):\n",
    "        return(self.kwargs['q0'])"
   ]
  },
  {
   "cell_type": "code",
   "execution_count": null,
   "metadata": {},
   "outputs": [],
   "source": [
    "stq = StringProbSpringy(q0=40.1)\n",
    "stq.eig()"
   ]
  },
  {
   "cell_type": "code",
   "execution_count": null,
   "metadata": {},
   "outputs": [],
   "source": [
    "print(stq.A.toarray())"
   ]
  },
  {
   "cell_type": "markdown",
   "metadata": {},
   "source": [
    "Eigenvalues are higher, which is just saying there is a minimum frequency that is higher, like the dispersion related says must be the case."
   ]
  },
  {
   "cell_type": "code",
   "execution_count": null,
   "metadata": {},
   "outputs": [],
   "source": [
    "print(stq.evals[0:10])"
   ]
  },
  {
   "cell_type": "code",
   "execution_count": null,
   "metadata": {},
   "outputs": [],
   "source": [
    "print(np.sqrt(stq.evals[0:10] / stq.evals[0]))"
   ]
  },
  {
   "cell_type": "markdown",
   "metadata": {},
   "source": [
    "But the eigenfunctions are the same for the patterns. Note that the way they evolve will be different, because, as just shown above, their frequencies are no longer in a harmonic sequence. "
   ]
  },
  {
   "cell_type": "code",
   "execution_count": null,
   "metadata": {},
   "outputs": [],
   "source": [
    "for i in np.arange(3):\n",
    "    plt.plot(stq.x, stq.evecs[:, i])"
   ]
  },
  {
   "cell_type": "code",
   "execution_count": null,
   "metadata": {},
   "outputs": [],
   "source": [
    "initial = (- (stq.x - 0.5)**4 + 0.5**4) * 3.\n",
    "coeffs = stq.fit_coeffs(d=initial)\n",
    "\n",
    "plt.plot(stq.x, initial)\n",
    "plt.plot(stq.x, stq.evecs.dot(coeffs))"
   ]
  },
  {
   "cell_type": "code",
   "execution_count": null,
   "metadata": {},
   "outputs": [],
   "source": [
    "print(coeffs[0:10])"
   ]
  },
  {
   "cell_type": "code",
   "execution_count": null,
   "metadata": {},
   "outputs": [],
   "source": [
    "stq.set_coeffs(a=coeffs, b=bcoeffs)\n",
    "\n",
    "# call the animator. blit=True means only re-draw the parts that have changed.\n",
    "anim = animation.FuncAnimation(fig, stq.frame, init_func=init,\n",
    "                               frames=nframes, interval=40, blit=True,\n",
    "                               repeat_delay=2000)\n",
    "\n",
    "HTML(anim.to_jshtml())"
   ]
  },
  {
   "cell_type": "markdown",
   "metadata": {},
   "source": [
    "## String which is heavy in the middle"
   ]
  },
  {
   "cell_type": "code",
   "execution_count": null,
   "metadata": {},
   "outputs": [],
   "source": [
    "class StringProbDensity(StringProb):\n",
    "    def rho(self, x):\n",
    "        rrho = np.ones(len(x))\n",
    "        rrho[(x > 0.40) & (x < 0.60)] = 1. + self.kwargs['rhocen']\n",
    "        return(rrho)"
   ]
  },
  {
   "cell_type": "code",
   "execution_count": null,
   "metadata": {},
   "outputs": [],
   "source": [
    "std = StringProbDensity(rhocen=20., N=1001)\n",
    "std.eig()"
   ]
  },
  {
   "cell_type": "code",
   "execution_count": null,
   "metadata": {},
   "outputs": [],
   "source": [
    "print(std.A.toarray())"
   ]
  },
  {
   "cell_type": "code",
   "execution_count": null,
   "metadata": {},
   "outputs": [],
   "source": [
    "print(std.evals[0:10])"
   ]
  },
  {
   "cell_type": "code",
   "execution_count": null,
   "metadata": {},
   "outputs": [],
   "source": [
    "plt.plot(std.x, std.rho(std.x))"
   ]
  },
  {
   "cell_type": "code",
   "execution_count": null,
   "metadata": {},
   "outputs": [],
   "source": [
    "for i in np.arange(4):\n",
    "    plt.plot(std.x, std.evecs[:, i])"
   ]
  },
  {
   "cell_type": "code",
   "execution_count": null,
   "metadata": {},
   "outputs": [],
   "source": [
    "plt.plot(std.x, std.evecs[:, 10])"
   ]
  },
  {
   "cell_type": "code",
   "execution_count": null,
   "metadata": {},
   "outputs": [],
   "source": [
    "initial = (- (std.x - 0.5)**4 + 0.5**4) * 3.\n",
    "coeffs = std.fit_coeffs(d=initial)\n",
    "\n",
    "plt.plot(std.x, initial)\n",
    "plt.plot(std.x, std.evecs.dot(coeffs))"
   ]
  },
  {
   "cell_type": "code",
   "execution_count": null,
   "metadata": {},
   "outputs": [],
   "source": [
    "bcoeffs = np.zeros(std.N)\n",
    "\n",
    "std.set_coeffs(a=coeffs, b=bcoeffs)\n",
    "\n",
    "# call the animator. blit=True means only re-draw the parts that have changed.\n",
    "anim = animation.FuncAnimation(fig, std.frame, init_func=init,\n",
    "                               frames=nframes, interval=40, blit=True,\n",
    "                               repeat_delay=2000)\n",
    "\n",
    "HTML(anim.to_jshtml())"
   ]
  },
  {
   "cell_type": "code",
   "execution_count": null,
   "metadata": {},
   "outputs": [],
   "source": [
    "initial = np.zeros(std.N)\n",
    "half = np.arange(std.N // 2)\n",
    "initial[half] = np.sin(np.pi * std.x[half] / 0.5)**2 * 0.25\n",
    "coeffs = std.fit_coeffs(d=initial)\n",
    "\n",
    "plt.plot(std.x, initial)\n",
    "plt.plot(std.x, std.evecs.dot(coeffs))"
   ]
  },
  {
   "cell_type": "code",
   "execution_count": null,
   "metadata": {},
   "outputs": [],
   "source": [
    "bcoeffs = np.zeros(std.N)\n",
    "\n",
    "std.set_coeffs(a=coeffs, b=bcoeffs)\n",
    "\n",
    "# call the animator. blit=True means only re-draw the parts that have changed.\n",
    "anim = animation.FuncAnimation(fig, std.frame, init_func=init,\n",
    "                               frames=nframes, interval=40, blit=True,\n",
    "                               repeat_delay=2000)\n",
    "\n",
    "HTML(anim.to_jshtml())"
   ]
  },
  {
   "cell_type": "code",
   "execution_count": null,
   "metadata": {},
   "outputs": [],
   "source": [
    "plt.plot(coeffs)\n",
    "plt.xlim((0., 100.))"
   ]
  },
  {
   "cell_type": "code",
   "execution_count": null,
   "metadata": {},
   "outputs": [],
   "source": []
  }
 ],
 "metadata": {
  "kernelspec": {
   "display_name": "Python 3",
   "language": "python",
   "name": "python3"
  },
  "language_info": {
   "codemirror_mode": {
    "name": "ipython",
    "version": 3
   },
   "file_extension": ".py",
   "mimetype": "text/x-python",
   "name": "python",
   "nbconvert_exporter": "python",
   "pygments_lexer": "ipython3",
   "version": "3.6.7"
  }
 },
 "nbformat": 4,
 "nbformat_minor": 2
}
