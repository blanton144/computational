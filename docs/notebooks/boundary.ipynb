{
 "cells": [
  {
   "cell_type": "code",
   "execution_count": 1,
   "metadata": {
    "collapsed": true
   },
   "outputs": [],
   "source": [
    "%matplotlib inline\n",
    "import numpy as np\n",
    "import matplotlib.pyplot as plt\n",
    "from matplotlib import animation\n",
    "from IPython.display import HTML"
   ]
  },
  {
   "cell_type": "code",
   "execution_count": 2,
   "metadata": {
    "collapsed": false
   },
   "outputs": [
    {
     "data": {
      "image/png": "[encoded data removed]",
      "text/plain": [
       "<matplotlib.figure.Figure at 0x109bf72b0>"
      ]
     },
     "metadata": {},
     "output_type": "display_data"
    }
   ],
   "source": [
    "fig, ax = plt.subplots()\n",
    "\n",
    "line, = ax.plot([], [], lw=2)\n",
    "\n",
    "nframes = 500\n",
    "\n",
    "def init():\n",
    "    line.set_data([], [])\n",
    "    return (line,)"
   ]
  },
  {
   "cell_type": "markdown",
   "metadata": {},
   "source": [
    "## Successive overrelaxation"
   ]
  },
  {
   "cell_type": "code",
   "execution_count": 3,
   "metadata": {
    "collapsed": false
   },
   "outputs": [],
   "source": [
    "def relax(a=None, b=None, c=None, f=None, tol=1.e-5, maxiter=10000):\n",
    "    omega = 1.5\n",
    "    J = len(f)\n",
    "    q = np.zeros(J)\n",
    "    qall = np.zeros((J, maxiter))\n",
    "    rjac = np.cos(np.pi / np.float64(J))\n",
    "    anormf = np.abs(f[1:-1]).sum()\n",
    "    for iter in np.arange(maxiter):\n",
    "        anorm = 0.\n",
    "        for j in 1 + np.arange(J-2):\n",
    "            resid = a[j] * q[j + 1] + b[j] * q[j - 1] + c[j] * q[j] - f[j]\n",
    "            anorm = anorm + np.abs(resid)\n",
    "            q[j] = q[j] - omega * resid / c[j]\n",
    "        qall[:, iter] = q\n",
    "        if(anorm / anormf < tol):\n",
    "            return(qall[:, 0:iter + 1])\n",
    "    return(qall[:, 0:iter + 1])"
   ]
  },
  {
   "cell_type": "code",
   "execution_count": 4,
   "metadata": {
    "collapsed": false
   },
   "outputs": [],
   "source": [
    "J = 100\n",
    "a = np.ones(J)\n",
    "b = np.ones(J)\n",
    "c = - 2. * np.ones(J)\n",
    "f = np.zeros(J)\n",
    "# f[J // 2] = 1.\n",
    "# f[J // 2 - 5 : J // 2 + 5] = 1.\n",
    "f[J // 8 - 5 : J // 8 + 5] = 1.\n",
    "f[7 * J // 8 - 4 : 7 * J // 8 + 6] = 1.\n",
    "q = relax(a=a, b=b, c=c, f=f)"
   ]
  },
  {
   "cell_type": "code",
   "execution_count": 5,
   "metadata": {
    "collapsed": false
   },
   "outputs": [
    {
     "data": {
      "text/plain": [
       "[<matplotlib.lines.Line2D at 0x10ce16eb8>]"
      ]
     },
     "execution_count": 5,
     "metadata": {},
     "output_type": "execute_result"
    },
    {
     "data": {
      "image/png": "[encoded data removed]",
      "text/plain": [
       "<matplotlib.figure.Figure at 0x10c5bfb00>"
      ]
     },
     "metadata": {},
     "output_type": "display_data"
    }
   ],
   "source": [
    "plt.plot(q[:, -1])"
   ]
  },
  {
   "cell_type": "code",
   "execution_count": 6,
   "metadata": {
    "collapsed": false
   },
   "outputs": [],
   "source": [
    "def frame(i):\n",
    "    line.set_data(np.arange(q.shape[0]), q[:, i])\n",
    "    return (line,)"
   ]
  },
  {
   "cell_type": "code",
   "execution_count": null,
   "metadata": {
    "collapsed": false
   },
   "outputs": [],
   "source": [
    "ax.set_xlim(( 0., q.shape[0]))\n",
    "ax.set_ylim(( np.min(q), np.max(q)))\n",
    "\n",
    "anim = animation.FuncAnimation(fig, frame, init_func=init,\n",
    "                               frames=q.shape[1], interval=40,\n",
    "                               blit=True)\n",
    "\n",
    "HTML(anim.to_html5_video())"
   ]
  },
  {
   "cell_type": "code",
   "execution_count": null,
   "metadata": {
    "collapsed": false
   },
   "outputs": [],
   "source": [
    "def relax_accelerate(a=None, b=None, c=None, f=None, tol=1.e-5, maxiter=10000):\n",
    "    J = len(f)\n",
    "    q = np.zeros(J)\n",
    "    qall = np.zeros((J, maxiter))\n",
    "    rjac = np.cos(np.pi / np.float64(J)) * 0.5\n",
    "    anormf = np.abs(f[1:-1]).sum()\n",
    "    omega = 1.\n",
    "    for iter in np.arange(maxiter):\n",
    "        anorm = 0.\n",
    "        if(iter % 2 == 0):\n",
    "            jstart = 2\n",
    "            jsize = (J - 2) // 2\n",
    "        else:\n",
    "            jstart = 1\n",
    "            jsize = (J - 1) // 2\n",
    "        for j in jstart + 2 * np.arange(jsize):\n",
    "            resid = a[j] * q[j + 1] + b[j] * q[j - 1] + c[j] * q[j] - f[j]\n",
    "            anorm = anorm + np.abs(resid)\n",
    "            q[j] = q[j] - omega * resid / c[j]\n",
    "        qall[:, iter] = q\n",
    "        if(anorm / anormf < tol):\n",
    "            print(anorm / anormf)\n",
    "            print(iter)\n",
    "            return(qall[:, 0:iter + 1])\n",
    "        if(iter == 0):\n",
    "            omega = 1. / (1. - 0.5 * rjac**2 * omega)\n",
    "        else:\n",
    "            omega = 1. / (1. - 0.25 * rjac**2 * omega)\n",
    "    print(anorm / anormf)\n",
    "    print(iter)\n",
    "    return(qall[:, 0:iter + 1])"
   ]
  },
  {
   "cell_type": "code",
   "execution_count": null,
   "metadata": {
    "collapsed": false
   },
   "outputs": [],
   "source": [
    "q = relax_accelerate(a=a, b=b, c=c, f=f)\n",
    "# plt.plot(q[:, - 1])"
   ]
  },
  {
   "cell_type": "code",
   "execution_count": null,
   "metadata": {
    "collapsed": false
   },
   "outputs": [],
   "source": [
    "ax.set_xlim(( 0., q.shape[0]))\n",
    "ax.set_ylim(( np.min(q), np.max(q)))\n",
    "\n",
    "anim = animation.FuncAnimation(fig, frame, init_func=init,\n",
    "                               frames=q.shape[1], interval=40,\n",
    "                               blit=True)\n",
    "\n",
    "HTML(anim.to_html5_video())"
   ]
  },
  {
   "cell_type": "code",
   "execution_count": null,
   "metadata": {
    "collapsed": true
   },
   "outputs": [],
   "source": []
  }
 ],
 "metadata": {
  "kernelspec": {
   "display_name": "Python 3",
   "language": "python",
   "name": "python3"
  },
  "language_info": {
   "codemirror_mode": {
    "name": "ipython",
    "version": 3
   },
   "file_extension": ".py",
   "mimetype": "text/x-python",
   "name": "python",
   "nbconvert_exporter": "python",
   "pygments_lexer": "ipython3",
   "version": "3.5.2"
  }
 },
 "nbformat": 4,
 "nbformat_minor": 2
}
