{
 "cells": [
  {
   "cell_type": "code",
   "execution_count": null,
   "metadata": {
    "collapsed": true
   },
   "outputs": [],
   "source": [
    "%matplotlib inline\n",
    "import matplotlib.pyplot as plt\n",
    "import numpy as np"
   ]
  },
  {
   "cell_type": "markdown",
   "metadata": {
    "collapsed": true
   },
   "source": [
    "## Example of the linear congruent method"
   ]
  },
  {
   "cell_type": "markdown",
   "metadata": {},
   "source": [
    "Here we show a particularly bad version of the linear congruent method."
   ]
  },
  {
   "cell_type": "code",
   "execution_count": null,
   "metadata": {
    "collapsed": false
   },
   "outputs": [],
   "source": [
    "nrandom = 10\n",
    "x = np.zeros(nrandom, dtype=np.int32)\n",
    "M = np.int32(256)\n",
    "c = np.int32(3)\n",
    "a = np.int32(5)"
   ]
  },
  {
   "cell_type": "code",
   "execution_count": null,
   "metadata": {
    "collapsed": false
   },
   "outputs": [],
   "source": [
    "x[0] = 15\n",
    "for indx in np.arange(nrandom - 1):\n",
    "   x[indx + 1] = (x[indx] * a + c) % M\n",
    "   print(x[indx + 1])"
   ]
  },
  {
   "cell_type": "code",
   "execution_count": null,
   "metadata": {
    "collapsed": false
   },
   "outputs": [],
   "source": [
    "nrandom = 10000\n",
    "x = np.zeros(nrandom, dtype=np.int32)\n",
    "x[0] = 15\n",
    "for indx in np.arange(nrandom - 1):\n",
    "   x[indx + 1] = (x[indx] * a + c) % M\n",
    "x = np.float32(x) / np.float32(M)"
   ]
  },
  {
   "cell_type": "markdown",
   "metadata": {},
   "source": [
    "If we look at the histogram of values between 0 and 255, it is fairly uniform (but with suspicious patterns)."
   ]
  },
  {
   "cell_type": "code",
   "execution_count": null,
   "metadata": {
    "collapsed": false
   },
   "outputs": [],
   "source": [
    "xmin = 0.\n",
    "xmax = 1.\n",
    "nbin = 30\n",
    "x_histogram, x_edges = np.histogram(x, range=[xmin, xmax], bins=nbin)\n",
    "x_centers = xmin + (xmax - xmin) * (np.arange(nbin) + 0.5) / np.float32(nbin)"
   ]
  },
  {
   "cell_type": "code",
   "execution_count": null,
   "metadata": {
    "collapsed": false
   },
   "outputs": [],
   "source": [
    "plt.plot(x_centers, x_histogram)\n",
    "plt.ylim((-1., 420.))"
   ]
  },
  {
   "cell_type": "markdown",
   "metadata": {},
   "source": [
    "But a definite pattern is noticable when you just plot the numbers!"
   ]
  },
  {
   "cell_type": "code",
   "execution_count": null,
   "metadata": {
    "collapsed": false
   },
   "outputs": [],
   "source": [
    "plt.plot(x, '.')"
   ]
  },
  {
   "cell_type": "markdown",
   "metadata": {},
   "source": [
    "When you compare one number to its neighbor, there is a very definite pattern! These are not random at all!!"
   ]
  },
  {
   "cell_type": "code",
   "execution_count": null,
   "metadata": {
    "collapsed": false
   },
   "outputs": [],
   "source": [
    "plt.plot(x[0:-2], x[1:-1], '.')"
   ]
  },
  {
   "cell_type": "markdown",
   "metadata": {},
   "source": [
    "Now we use the more reasonable numbers quoted in Equations 4.11 and 4.12 in Landau. "
   ]
  },
  {
   "cell_type": "code",
   "execution_count": null,
   "metadata": {
    "collapsed": false
   },
   "outputs": [],
   "source": [
    "nrandom = 10\n",
    "x = np.zeros(nrandom, dtype=np.int64)\n",
    "M = np.int64(2**48)\n",
    "# \"0o\" is the prefix for a base-8 number in Python\n",
    "c = np.int64(0o13)\n",
    "a = np.int64(0o273673163155)"
   ]
  },
  {
   "cell_type": "code",
   "execution_count": null,
   "metadata": {
    "collapsed": false
   },
   "outputs": [],
   "source": [
    "nrandom = 10000\n",
    "x = np.zeros(nrandom, dtype=np.int64)\n",
    "x[0] = 15\n",
    "for indx in np.arange(nrandom - 1):\n",
    "   x[indx + 1] = (x[indx] * a + c) % M\n",
    "x = np.float64(x) / np.float64(M)"
   ]
  },
  {
   "cell_type": "code",
   "execution_count": null,
   "metadata": {
    "collapsed": false
   },
   "outputs": [],
   "source": [
    "xmin = 0.\n",
    "xmax = 1.\n",
    "nbin = 30\n",
    "x_histogram, x_edges = np.histogram(x, range=[xmin, xmax], bins=nbin)\n",
    "x_centers = xmin + (xmax - xmin) * (np.arange(nbin) + 0.5) / np.float32(nbin)\n",
    "\n",
    "plt.plot(x_centers, x_histogram)\n",
    "plt.ylim((-1., 420.))"
   ]
  },
  {
   "cell_type": "code",
   "execution_count": null,
   "metadata": {
    "collapsed": false
   },
   "outputs": [],
   "source": [
    "plt.plot(x[0:-2], x[1:-1], ',')"
   ]
  },
  {
   "cell_type": "markdown",
   "metadata": {},
   "source": [
    "## Assessing randomness by looking at variance in bins"
   ]
  },
  {
   "cell_type": "markdown",
   "metadata": {},
   "source": [
    "We can assess randomness using an ensemble of random samples."
   ]
  },
  {
   "cell_type": "code",
   "execution_count": null,
   "metadata": {
    "collapsed": true
   },
   "outputs": [],
   "source": [
    "nensembles = 1000\n",
    "nper = 5000"
   ]
  },
  {
   "cell_type": "code",
   "execution_count": null,
   "metadata": {
    "collapsed": false
   },
   "outputs": [],
   "source": [
    "x = np.zeros((nensembles, nper), dtype=np.int64)\n",
    "xseed = 15\n",
    "for iensemble in np.arange(nensembles):\n",
    "    x[iensemble, 0] = xseed\n",
    "    for indx in np.arange(nper - 1):\n",
    "       x[iensemble, indx + 1] = (x[iensemble, indx] * a + c) % M\n",
    "    xseed = x[iensemble, nper - 1]\n",
    "x = np.float64(x) / np.float64(M)"
   ]
  },
  {
   "cell_type": "markdown",
   "metadata": {},
   "source": [
    "We can calculate the actual means and standard deviations using ufuncs.  "
   ]
  },
  {
   "cell_type": "code",
   "execution_count": null,
   "metadata": {
    "collapsed": false
   },
   "outputs": [],
   "source": [
    "x_means = np.mean(x_histogram, axis=0)\n",
    "x_stds = np.std(x_histogram, axis=0)"
   ]
  },
  {
   "cell_type": "markdown",
   "metadata": {},
   "source": [
    "Then we can plot against the expected values."
   ]
  },
  {
   "cell_type": "code",
   "execution_count": null,
   "metadata": {
    "collapsed": false
   },
   "outputs": [],
   "source": [
    "xmin = 0.\n",
    "xmax = 1.\n",
    "nbin = 30\n",
    "\n",
    "plt.figure(figsize=(9,7))\n",
    "\n",
    "nexpected = np.float32(nper) / np.float32(nbin)\n",
    "\n",
    "x_histogram = np.zeros((nensembles, nbin), dtype=np.int32)\n",
    "x_centers = xmin + (xmax - xmin) * (np.arange(nbin) + 0.5) / np.float32(nbin)\n",
    "\n",
    "for iensemble in np.arange(nensembles):\n",
    "    x_histogram_tmp, x_edges = np.histogram(x[iensemble, :],\n",
    "                                            range=[xmin, xmax], bins=nbin)\n",
    "    x_histogram[iensemble, :] = x_histogram_tmp\n",
    "    plt.plot(x_centers, x_histogram[iensemble, :], '.', alpha=0.5)\n",
    "    \n",
    "plt.plot(x_centers, x_means, color='red', linewidth=3, label='Actual mean')\n",
    "plt.plot(x_centers, x_means + x_stds, color='black', linestyle='dashed',\n",
    "         linewidth=3, label='Actual mean')\n",
    "plt.plot(x_centers, x_means - x_stds, color='black', linestyle='dashed',\n",
    "         linewidth=3)\n",
    "\n",
    "plt.plot([0., 1.], np.ones(2) * nexpected, color='red', label='Expected mean')\n",
    "plt.plot([0., 1.], np.ones(2) * (nexpected + np.sqrt(nexpected)),\n",
    "         linestyle='dashed', color='black', label='Expected std. dev.')\n",
    "plt.plot([0., 1.], np.ones(2) * (nexpected - np.sqrt(nexpected)),\n",
    "         linestyle='dashed', color='black')\n",
    "\n",
    "plt.ylim(np.array([-0.05, 1.5]) * nexpected)\n",
    "plt.xlabel('Bin center')\n",
    "plt.legend(loc=3)"
   ]
  },
  {
   "cell_type": "code",
   "execution_count": null,
   "metadata": {
    "collapsed": false
   },
   "outputs": [],
   "source": [
    "print(np.sqrt(1. / (nexpected * nensembles)))"
   ]
  },
  {
   "cell_type": "markdown",
   "metadata": {},
   "source": [
    "Though impressive looking, never take a plot like the above at face value. You want to look at the ratios!\n",
    "\n",
    "How close should they be? Well, if the standard deviation is $\\sqrt{N_{\\rm exp}}$, then the error in the mean is $\\sqrt{N_{\\rm exp} / N_{\\rm ensemble}} = \\sqrt{167 / 5000}$. So the fractional error in the mean is $1 / \\sqrt{N_{\\rm exp}N_{\\rm ensemble}} = 0.0024$."
   ]
  },
  {
   "cell_type": "code",
   "execution_count": null,
   "metadata": {
    "collapsed": false
   },
   "outputs": [],
   "source": [
    "plt.plot(x_centers, x_means / nexpected)\n",
    "plt.ylabel('Mean / Expected Mean')\n",
    "plt.xlabel('Bin center')"
   ]
  },
  {
   "cell_type": "markdown",
   "metadata": {},
   "source": [
    "## Assessing randomness by looking at correlations"
   ]
  },
  {
   "cell_type": "markdown",
   "metadata": {},
   "source": [
    "We can evaluate the correlations within each ensemble to test randomness."
   ]
  },
  {
   "cell_type": "code",
   "execution_count": null,
   "metadata": {
    "collapsed": true
   },
   "outputs": [],
   "source": [
    "nk = 100\n",
    "C = np.zeros((nensembles, nk), dtype=np.float64)\n",
    "for iensemble in np.arange(nensembles):\n",
    "    for k in np.arange(nk):\n",
    "        C[iensemble, k] = (x[iensemble, 0: nper - (k + 1)] *\n",
    "                           x[iensemble, (k + 1): nper]).sum() / np.float32(nper - k)"
   ]
  },
  {
   "cell_type": "code",
   "execution_count": null,
   "metadata": {
    "collapsed": false
   },
   "outputs": [],
   "source": [
    "nk = 100\n",
    "Chalf = np.zeros((nensembles, nk), dtype=np.float64)\n",
    "for iensemble in np.arange(nensembles):\n",
    "    for k in np.arange(nk):\n",
    "        # Note \"//\" is an integer division\n",
    "        Chalf[iensemble, k] = (x[iensemble, 0: nper // 2 - (k + 1)] *\n",
    "                               x[iensemble, (k + 1): nper // 2]).sum() / np.float32(nper // 2 - k)"
   ]
  },
  {
   "cell_type": "code",
   "execution_count": null,
   "metadata": {
    "collapsed": false
   },
   "outputs": [],
   "source": [
    "plt.plot(np.arange(nk) + 1, C.mean(axis=0), label='Full')\n",
    "plt.plot(np.arange(nk) + 1, Chalf.mean(axis=0), label='Half')\n",
    "plt.xlabel(k)\n",
    "plt.ylabel('Mean C(k)')\n",
    "plt.ylim((0.2493, 0.2507))\n",
    "plt.legend()"
   ]
  },
  {
   "cell_type": "markdown",
   "metadata": {},
   "source": [
    "We calculate the deviation around the expected mean, not the calculated mean."
   ]
  },
  {
   "cell_type": "code",
   "execution_count": null,
   "metadata": {
    "collapsed": true
   },
   "outputs": [],
   "source": [
    "Cstd = np.sqrt(((C - 0.25)**2).sum(axis=0) / C.shape[0])\n",
    "Chalfstd = np.sqrt(((Chalf - 0.25)**2).sum(axis=0) / C.shape[0])"
   ]
  },
  {
   "cell_type": "code",
   "execution_count": null,
   "metadata": {
    "collapsed": false
   },
   "outputs": [],
   "source": [
    "plt.plot(np.arange(nk) + 1, Cstd, color='C0', label='Full')\n",
    "plt.plot(np.arange(nk) + 1, Chalfstd / np.sqrt(2.), color='C1',\n",
    "         linestyle='dotted', label='Half/$\\sqrt{2}$')\n",
    "plt.plot(np.arange(nk) + 1, Chalfstd, color='C1', label='Half')\n",
    "plt.xlabel(k)\n",
    "plt.ylabel('Std. Dev. of C(k)')\n",
    "plt.ylim(0., 0.008)\n",
    "plt.legend()"
   ]
  },
  {
   "cell_type": "markdown",
   "metadata": {},
   "source": [
    "We can test these properties with the default NumPy random number generator as well."
   ]
  },
  {
   "cell_type": "code",
   "execution_count": null,
   "metadata": {
    "collapsed": false
   },
   "outputs": [],
   "source": [
    "xr = np.random.random(size=(nensembles, nper))"
   ]
  },
  {
   "cell_type": "code",
   "execution_count": null,
   "metadata": {
    "collapsed": true
   },
   "outputs": [],
   "source": [
    "nk = 100\n",
    "C = np.zeros((nensembles, nk), dtype=np.float64)\n",
    "for iensemble in np.arange(nensembles):\n",
    "    for k in np.arange(nk):\n",
    "        C[iensemble, k] = (xr[iensemble, 0: nper - (k + 1)] *\n",
    "                           xr[iensemble, (k + 1): nper]).sum() / np.float32(nper - k)"
   ]
  },
  {
   "cell_type": "code",
   "execution_count": null,
   "metadata": {
    "collapsed": false
   },
   "outputs": [],
   "source": [
    "nk = 100\n",
    "Chalf = np.zeros((nensembles, nk), dtype=np.float64)\n",
    "for iensemble in np.arange(nensembles):\n",
    "    for k in np.arange(nk):\n",
    "        # Note \"//\" is an integer division\n",
    "        Chalf[iensemble, k] = (xr[iensemble, 0: nper // 2 - (k + 1)] *\n",
    "                               xr[iensemble, (k + 1): nper // 2]).sum() / np.float32(nper // 2 - k)"
   ]
  },
  {
   "cell_type": "code",
   "execution_count": null,
   "metadata": {
    "collapsed": false
   },
   "outputs": [],
   "source": [
    "plt.plot(np.arange(nk) + 1, C.mean(axis=0), label='Full')\n",
    "plt.plot(np.arange(nk) + 1, Chalf.mean(axis=0), label='Half')\n",
    "plt.xlabel(k)\n",
    "plt.ylabel('Mean C(k)')\n",
    "plt.ylim((0.2493, 0.2507))\n",
    "plt.legend()"
   ]
  },
  {
   "cell_type": "code",
   "execution_count": null,
   "metadata": {
    "collapsed": true
   },
   "outputs": [],
   "source": [
    "Cstd = np.sqrt(((C - 0.25)**2).sum(axis=0) / C.shape[0])\n",
    "Chalfstd = np.sqrt(((Chalf - 0.25)**2).sum(axis=0) / C.shape[0])"
   ]
  },
  {
   "cell_type": "code",
   "execution_count": null,
   "metadata": {
    "collapsed": false
   },
   "outputs": [],
   "source": [
    "plt.plot(np.arange(nk) + 1, Cstd, color='C0', label='Full')\n",
    "plt.plot(np.arange(nk) + 1, Chalfstd / np.sqrt(2.), color='C1',\n",
    "         linestyle='dotted', label='Half/$\\sqrt{2}$')\n",
    "plt.plot(np.arange(nk) + 1, Chalfstd, color='C1', label='Half')\n",
    "plt.xlabel(k)\n",
    "plt.ylabel('Std. Dev. of C(k)')\n",
    "plt.ylim(0., 0.008)\n",
    "plt.legend()"
   ]
  },
  {
   "cell_type": "markdown",
   "metadata": {},
   "source": [
    "## A random walk"
   ]
  },
  {
   "cell_type": "markdown",
   "metadata": {},
   "source": [
    "A simple application is the random walk."
   ]
  },
  {
   "cell_type": "code",
   "execution_count": null,
   "metadata": {
    "collapsed": true
   },
   "outputs": [],
   "source": [
    "nwalkers = 1000\n",
    "nsteps = 10000\n",
    "steps = np.random.random(size=(nwalkers, nsteps)) - 0.5 "
   ]
  },
  {
   "cell_type": "markdown",
   "metadata": {},
   "source": [
    "We can look at the distribution of steps, which is uniform across -0.5 to 0.5."
   ]
  },
  {
   "cell_type": "code",
   "execution_count": null,
   "metadata": {
    "collapsed": false
   },
   "outputs": [],
   "source": [
    "nbins = 100\n",
    "steps_histogram, steps_edges = np.histogram(steps, bins=nbins, range=[-0.5, 0.5])\n",
    "steps_centers = (steps_edges[0:nbins] + steps_edges[1:nbins + 1]) * 0.5\n",
    "plt.plot(steps_centers, steps_histogram)\n",
    "plt.xlabel('Step')\n",
    "plt.ylabel('N')"
   ]
  },
  {
   "cell_type": "markdown",
   "metadata": {},
   "source": [
    "The steps can be added into a path for each walker."
   ]
  },
  {
   "cell_type": "code",
   "execution_count": null,
   "metadata": {
    "collapsed": true
   },
   "outputs": [],
   "source": [
    "paths = steps.cumsum(axis=1)"
   ]
  },
  {
   "cell_type": "markdown",
   "metadata": {},
   "source": [
    "The paths all start near zero and then spread out, slowly wandering away from zero."
   ]
  },
  {
   "cell_type": "code",
   "execution_count": null,
   "metadata": {
    "collapsed": false
   },
   "outputs": [],
   "source": [
    "for indx in np.arange(nwalkers):\n",
    "    plt.plot(paths[indx, :], alpha=0.2)\n",
    "plt.xlabel('$N_{step}$')\n",
    "plt.ylabel('x')"
   ]
  },
  {
   "cell_type": "markdown",
   "metadata": {},
   "source": [
    "The distribution of position of walkers therefore grows with number of steps into the walk."
   ]
  },
  {
   "cell_type": "code",
   "execution_count": null,
   "metadata": {
    "collapsed": false
   },
   "outputs": [],
   "source": [
    "nbins = 100\n",
    "dist0, edges = np.histogram(paths[:, 0], bins=nbins, range=[-75., 75])\n",
    "dist1, edges = np.histogram(paths[:, 1], bins=nbins, range=[-75., 75])\n",
    "dist10, edges = np.histogram(paths[:, 10], bins=nbins, range=[-75., 75])\n",
    "dist100, edges = np.histogram(paths[:, 100], bins=nbins, range=[-75., 75])\n",
    "dist1000, edges = np.histogram(paths[:, 1000], bins=nbins, range=[-75., 75])\n",
    "dist9999, edges = np.histogram(paths[:, 9999], bins=nbins, range=[-75., 75])\n",
    "cens = 0.5 * (edges[:-1] + edges[1:])\n",
    "plt.plot(cens, np.log10(dist0 + 0.1))\n",
    "plt.plot(cens, np.log10(dist1 + 0.1))\n",
    "plt.plot(cens, np.log10(dist100 + 0.1))\n",
    "plt.plot(cens, np.log10(dist1000 + 0.1))\n",
    "plt.plot(cens, np.log10(dist9999 + 0.1))\n",
    "plt.ylim((-0.1, 2.8))"
   ]
  },
  {
   "cell_type": "markdown",
   "metadata": {},
   "source": [
    "The standard deviation of the distribution grows as the square root of the number of steps in an entirely predictable fashion."
   ]
  },
  {
   "cell_type": "code",
   "execution_count": null,
   "metadata": {
    "collapsed": false
   },
   "outputs": [],
   "source": [
    "stds = np.std(paths, axis=0)\n",
    "expected = np.sqrt(1. / 12. * (np.arange(nsteps) + 1))\n",
    "plt.plot(stds)\n",
    "plt.plot(expected)"
   ]
  },
  {
   "cell_type": "markdown",
   "metadata": {},
   "source": [
    "Moreover, it becomes a Gaussian."
   ]
  },
  {
   "cell_type": "code",
   "execution_count": null,
   "metadata": {
    "collapsed": false
   },
   "outputs": [],
   "source": [
    "def model(indx):\n",
    "    binsize = 150. / np.float32(nbins)\n",
    "    model = (np.float32(nwalkers) *\n",
    "             np.exp(- 0.5 * (cens / expected[indx])**2) /\n",
    "             (np.sqrt(2. * np.pi) * expected[indx]) *\n",
    "             binsize)\n",
    "    return(model)\n",
    "    \n",
    "plt.plot(cens, np.log10(dist0 + 0.1))\n",
    "plt.plot(cens, np.log10(dist1 + 0.1))\n",
    "plt.plot(cens, np.log10(dist100 + 0.1))\n",
    "plt.plot(cens, np.log10(dist1000 + 0.1))\n",
    "plt.plot(cens, np.log10(dist9999 + 0.1))\n",
    "plt.plot(cens, np.log10(model(0) + 0.1))\n",
    "plt.plot(cens, np.log10(model(1) + 0.1))\n",
    "plt.plot(cens, np.log10(model(100) + 0.1))\n",
    "plt.plot(cens, np.log10(model(1000) + 0.1))\n",
    "plt.plot(cens, np.log10(model(9999) + 0.1))\n",
    "plt.ylim((-0.1, 2.8))"
   ]
  },
  {
   "cell_type": "markdown",
   "metadata": {},
   "source": [
    "## Non-uniform random distributions "
   ]
  },
  {
   "cell_type": "markdown",
   "metadata": {},
   "source": [
    "Non-uniform random distributions can be generated from uniform random distributions, through transformations.\n",
    "\n",
    "An example is generating an exponential distribution."
   ]
  },
  {
   "cell_type": "code",
   "execution_count": null,
   "metadata": {
    "collapsed": true
   },
   "outputs": [],
   "source": [
    "r = np.random.random(size=100000)\n",
    "x = - np.log(r)"
   ]
  },
  {
   "cell_type": "code",
   "execution_count": null,
   "metadata": {
    "collapsed": false
   },
   "outputs": [],
   "source": [
    "nbins = 100\n",
    "dist, edges = np.histogram(x, bins=nbins, range=[0., 6.])\n",
    "cens = 0.5 * (edges[:-1] + edges[1:])\n",
    "plt.figure(figsize=(10, 7))\n",
    "plt.plot(cens, dist, linewidth=5)\n",
    "binsize = 6. / np.float32(nbins)\n",
    "plt.plot(cens, len(x) * np.exp(- cens) * binsize)\n",
    "plt.ylabel('N')\n",
    "plt.xlabel('x')"
   ]
  },
  {
   "cell_type": "markdown",
   "metadata": {},
   "source": [
    "The numpy.random module has a large selection of distributions."
   ]
  },
  {
   "cell_type": "code",
   "execution_count": null,
   "metadata": {
    "collapsed": false
   },
   "outputs": [],
   "source": [
    "np.random?"
   ]
  },
  {
   "cell_type": "code",
   "execution_count": null,
   "metadata": {
    "collapsed": true
   },
   "outputs": [],
   "source": []
  }
 ],
 "metadata": {
  "kernelspec": {
   "display_name": "Python 3",
   "language": "python",
   "name": "python3"
  },
  "language_info": {
   "codemirror_mode": {
    "name": "ipython",
    "version": 3
   },
   "file_extension": ".py",
   "mimetype": "text/x-python",
   "name": "python",
   "nbconvert_exporter": "python",
   "pygments_lexer": "ipython3",
   "version": "3.5.2"
  }
 },
 "nbformat": 4,
 "nbformat_minor": 2
}
