{
 "cells": [
  {
   "cell_type": "code",
   "execution_count": 104,
   "metadata": {
    "collapsed": true
   },
   "outputs": [],
   "source": [
    "%matplotlib inline\n",
    "import matplotlib.pyplot as plt\n",
    "import numpy as np\n",
    "import scipy.integrate as integrate"
   ]
  },
  {
   "cell_type": "code",
   "execution_count": 38,
   "metadata": {
    "collapsed": true
   },
   "outputs": [],
   "source": [
    "def func(x=None):\n",
    "    return(- 0.3 + x**2 + 0.05 * x**3 - 0.05 * x**4)\n",
    "\n",
    "def func_integral(x=None):\n",
    "    return(- 0.3 * x + x**3 / 3. + 0.05 * x**4 / 4. - 0.05 * x**5 / 5.)"
   ]
  },
  {
   "cell_type": "code",
   "execution_count": 39,
   "metadata": {
    "collapsed": true
   },
   "outputs": [],
   "source": [
    "num = 1000\n",
    "x = 6. * (np.arange(num, dtype=np.float64) + 0.5) / np.float64(num)"
   ]
  },
  {
   "cell_type": "code",
   "execution_count": 40,
   "metadata": {
    "collapsed": false
   },
   "outputs": [
    {
     "data": {
      "text/plain": [
       "[<matplotlib.lines.Line2D at 0x10c7520b8>]"
      ]
     },
     "execution_count": 40,
     "metadata": {},
     "output_type": "execute_result"
    },
    {
     "data": {
      "image/png": "[encoded data removed]",
      "text/plain": [
       "<matplotlib.figure.Figure at 0x10c5282b0>"
      ]
     },
     "metadata": {},
     "output_type": "display_data"
    }
   ],
   "source": [
    "plt.plot(x, func(x))"
   ]
  },
  {
   "cell_type": "code",
   "execution_count": 41,
   "metadata": {
    "collapsed": false
   },
   "outputs": [
    {
     "data": {
      "text/plain": [
       "[<matplotlib.lines.Line2D at 0x10c923f98>]"
      ]
     },
     "execution_count": 41,
     "metadata": {},
     "output_type": "execute_result"
    },
    {
     "data": {
      "image/png": "[encoded data removed]",
      "text/plain": [
       "<matplotlib.figure.Figure at 0x10c686400>"
      ]
     },
     "metadata": {},
     "output_type": "display_data"
    }
   ],
   "source": [
    "plt.plot(x, func_integral(x))"
   ]
  },
  {
   "cell_type": "code",
   "execution_count": 47,
   "metadata": {
    "collapsed": false
   },
   "outputs": [],
   "source": [
    "range = [0., 5.]\n",
    "num = 1001\n",
    "x = range[0] + (range[1] - range[0]) * (np.arange(num, dtype=np.float64)) / np.float64(num - 1.)\n",
    "dx = (range[1] - range[0]) / np.float64(num - 1.)"
   ]
  },
  {
   "cell_type": "code",
   "execution_count": 48,
   "metadata": {
    "collapsed": false
   },
   "outputs": [],
   "source": [
    "traps_weights = np.ones(num, dtype=np.float64)\n",
    "traps_weights[0] = traps_weights[0] * 0.5\n",
    "traps_weights[-1] = traps_weights[-1] * 0.5"
   ]
  },
  {
   "cell_type": "code",
   "execution_count": 49,
   "metadata": {
    "collapsed": false
   },
   "outputs": [
    {
     "name": "stdout",
     "output_type": "stream",
     "text": [
      "[ 0.5  1.   1.  ...,  1.   1.   0.5]\n"
     ]
    }
   ],
   "source": [
    "print(traps_weights)"
   ]
  },
  {
   "cell_type": "code",
   "execution_count": 50,
   "metadata": {
    "collapsed": false
   },
   "outputs": [
    {
     "name": "stdout",
     "output_type": "stream",
     "text": [
      "16.7291432292\n",
      "16.729166666666664\n",
      "-2.34374947929e-05\n",
      "-1.40099595275e-06\n"
     ]
    }
   ],
   "source": [
    "traps_integral = (func(x) * traps_weights * dx).sum()\n",
    "print(traps_integral)\n",
    "real_integral = func_integral(range[1]) - func_integral(range[0])\n",
    "print(real_integral)\n",
    "print(traps_integral - real_integral)\n",
    "print((traps_integral - real_integral) / real_integral)"
   ]
  },
  {
   "cell_type": "code",
   "execution_count": 54,
   "metadata": {
    "collapsed": false
   },
   "outputs": [],
   "source": [
    "num = 1001\n",
    "x = range[0] + (range[1] - range[0]) * (np.arange(num, dtype=np.float64)) / np.float64(num - 1.)\n",
    "dx = (range[1] - range[0]) / np.float64(num - 1.)\n",
    "simps_weights = np.zeros(num, dtype=np.float64)\n",
    "simps_weights[0] = 1. / 3.\n",
    "simps_weights[-1] = 1. / 3.\n",
    "simps_weights[1:-1:2] = np.zeros(num // 2, dtype=np.float64) + 4. / 3.\n",
    "simps_weights[2:-1:2] = np.zeros(num // 2 - 1, dtype=np.float64) + 2. / 3."
   ]
  },
  {
   "cell_type": "code",
   "execution_count": 55,
   "metadata": {
    "collapsed": false
   },
   "outputs": [
    {
     "name": "stdout",
     "output_type": "stream",
     "text": [
      "[ 0.33333333  1.33333333  0.66666667 ...,  0.66666667  1.33333333\n",
      "  0.33333333]\n"
     ]
    }
   ],
   "source": [
    "print(simps_weights)"
   ]
  },
  {
   "cell_type": "code",
   "execution_count": 56,
   "metadata": {
    "collapsed": false
   },
   "outputs": [
    {
     "name": "stdout",
     "output_type": "stream",
     "text": [
      "16.7291666666\n",
      "16.729166666666664\n",
      "-2.08331130125e-11\n",
      "-1.24531684259e-12\n"
     ]
    }
   ],
   "source": [
    "simps_integral = (func(x) * simps_weights * dx).sum()\n",
    "print(simps_integral)\n",
    "real_integral = func_integral(range[1]) - func_integral(range[0])\n",
    "print(real_integral)\n",
    "print(simps_integral - real_integral)\n",
    "print((simps_integral - real_integral) / real_integral)"
   ]
  },
  {
   "cell_type": "code",
   "execution_count": 57,
   "metadata": {
    "collapsed": true
   },
   "outputs": [],
   "source": [
    "def func(x=None):\n",
    "    return (np.exp(- x))"
   ]
  },
  {
   "cell_type": "code",
   "execution_count": 58,
   "metadata": {
    "collapsed": true
   },
   "outputs": [],
   "source": [
    "def func_rescale(xp=None, a=None):\n",
    "    x = a * (1. + xp) / (1. - xp)\n",
    "    weight = 2. * a / (1. - xp)**2\n",
    "    return (weight * func(x=x))"
   ]
  },
  {
   "cell_type": "code",
   "execution_count": 59,
   "metadata": {
    "collapsed": true
   },
   "outputs": [],
   "source": [
    "num = 1001\n",
    "range = np.array([-1., 1.], dtype=np.float64)\n",
    "x = range[0] + (range[1] - range[0]) * (np.arange(num, dtype=np.float64)) / np.float64(num)\n",
    "dx = (range[1] - range[0]) / np.float64(num)\n",
    "simps_weights = np.zeros(num, dtype=np.float64)\n",
    "simps_weights[0] = 1. / 3.\n",
    "simps_weights[-1] = 1. / 3.\n",
    "simps_weights[1:-1:2] = np.zeros(num // 2, dtype=np.float64) + 4. / 3.\n",
    "simps_weights[2:-1:2] = np.zeros(num // 2 - 1, dtype=np.float64) + 2. / 3."
   ]
  },
  {
   "cell_type": "code",
   "execution_count": 60,
   "metadata": {
    "collapsed": false
   },
   "outputs": [
    {
     "name": "stdout",
     "output_type": "stream",
     "text": [
      "6.43449737936e-11\n"
     ]
    }
   ],
   "source": [
    "a = 0.1\n",
    "simps_integral = (func_rescale(x, a=a) * simps_weights * dx).sum()\n",
    "print(simps_integral - 1.)"
   ]
  },
  {
   "cell_type": "code",
   "execution_count": 61,
   "metadata": {
    "collapsed": false
   },
   "outputs": [
    {
     "name": "stdout",
     "output_type": "stream",
     "text": [
      "5.55111512313e-15\n"
     ]
    }
   ],
   "source": [
    "a = 1.\n",
    "simps_integral = (func_rescale(x, a=a) * simps_weights * dx).sum()\n",
    "print(simps_integral - 1.)"
   ]
  },
  {
   "cell_type": "code",
   "execution_count": 62,
   "metadata": {
    "collapsed": false
   },
   "outputs": [
    {
     "name": "stdout",
     "output_type": "stream",
     "text": [
      "7.52531370551e-12\n"
     ]
    }
   ],
   "source": [
    "a = 10.\n",
    "simps_integral = (func_rescale(x, a=a) * simps_weights * dx).sum()\n",
    "print(simps_integral - 1.)"
   ]
  },
  {
   "cell_type": "code",
   "execution_count": 75,
   "metadata": {
    "collapsed": true
   },
   "outputs": [],
   "source": [
    "y1 = np.float64(0.339981043585)\n",
    "y2 = np.float64(0.861136311594)\n",
    "w1 = np.float64(0.652145154862)\n",
    "w2 = np.float64(0.347854845137)\n",
    "xp = np.array([- y2, - y1, y1, y2], dtype=np.float64)\n",
    "gauss_weights = np.array([w2, w1, w1, w2], dtype=np.float64)"
   ]
  },
  {
   "cell_type": "code",
   "execution_count": 77,
   "metadata": {
    "collapsed": true
   },
   "outputs": [],
   "source": [
    "def func(x=None):\n",
    "    return(- 0.3 + x**2 + 0.05 * x**3 - 0.05 * x**4)\n",
    "\n",
    "def func_rescale(xp=None, range=None):\n",
    "    weight = (range[1] - range[0]) * 0.5\n",
    "    x = range[0] + 0.5 * (range[1] - range[0]) * (xp + 1.)\n",
    "    return(weight * func(x=x))\n",
    "\n",
    "def func_integral(x=None):\n",
    "    return(- 0.3 * x + x**3 / 3. + 0.05 * x**4 / 4. - 0.05 * x**5 / 5.)"
   ]
  },
  {
   "cell_type": "code",
   "execution_count": 79,
   "metadata": {
    "collapsed": false
   },
   "outputs": [
    {
     "name": "stdout",
     "output_type": "stream",
     "text": [
      "16.7291666667\n",
      "16.7291666667\n",
      "-1.53335122377e-11\n"
     ]
    }
   ],
   "source": [
    "range = np.array([0., 5.], dtype=np.float64)\n",
    "gauss_integral = (func_rescale(xp, range=range) * gauss_weights).sum()\n",
    "real_integral = func_integral(x=range[1]) - func_integral(x=range[0])\n",
    "print(gauss_integral)\n",
    "print(real_integral)\n",
    "print(gauss_integral - real_integral)"
   ]
  },
  {
   "cell_type": "code",
   "execution_count": 96,
   "metadata": {
    "collapsed": true
   },
   "outputs": [],
   "source": [
    "def func(x=None):\n",
    "    return(- 0.3 + x**2 + 0.05 * x**3 - 0.05 * x**4 + 0.0017 * x**6 - 0.0004 * x**7)\n",
    "\n",
    "def func_rescale(xp=None, range=None):\n",
    "    weight = (range[1] - range[0]) * 0.5\n",
    "    x = range[0] + 0.5 * (range[1] - range[0]) * (xp + 1.)\n",
    "    return(weight * func(x=x))\n",
    "\n",
    "def func_integral(x=None):\n",
    "    return(- 0.3 * x + x**3 / 3. + 0.05 * x**4 / 4. - 0.05 * x**5 / 5. +\n",
    "           0.0017 * x**7 / 7. - 0.0004 * x**8 / 8.)"
   ]
  },
  {
   "cell_type": "code",
   "execution_count": 97,
   "metadata": {
    "collapsed": false
   },
   "outputs": [
    {
     "data": {
      "text/plain": [
       "[<matplotlib.lines.Line2D at 0x10d43d908>]"
      ]
     },
     "execution_count": 97,
     "metadata": {},
     "output_type": "execute_result"
    },
    {
     "data": {
      "image/png": "[encoded data removed]",
      "text/plain": [
       "<matplotlib.figure.Figure at 0x10d396d30>"
      ]
     },
     "metadata": {},
     "output_type": "display_data"
    }
   ],
   "source": [
    "x = np.arange(1000) / np.float64(999) * (range[1] - range[0]) + range[0]\n",
    "plt.plot(x, func(x))"
   ]
  },
  {
   "cell_type": "code",
   "execution_count": 98,
   "metadata": {
    "collapsed": false
   },
   "outputs": [
    {
     "name": "stdout",
     "output_type": "stream",
     "text": [
      "16.1711309524\n",
      "16.1711309524\n",
      "-1.33404398639e-11\n"
     ]
    }
   ],
   "source": [
    "gauss_integral = (func_rescale(xp, range=range) * gauss_weights).sum()\n",
    "real_integral = func_integral(x=range[1]) - func_integral(x=range[0])\n",
    "print(gauss_integral)\n",
    "print(real_integral)\n",
    "print(gauss_integral - real_integral)"
   ]
  },
  {
   "cell_type": "code",
   "execution_count": 108,
   "metadata": {
    "collapsed": true
   },
   "outputs": [],
   "source": [
    "def func(x=None):\n",
    "    return(- 0.3 + x**2 + 0.05 * x**3 - 0.05 * x**4 + 0.0017 * x**6 - 0.0004 * x**7 + 0.00002 * x**8)\n",
    "\n",
    "def func_rescale(xp=None, range=None):\n",
    "    weight = (range[1] - range[0]) * 0.5\n",
    "    x = range[0] + 0.5 * (range[1] - range[0]) * (xp + 1.)\n",
    "    return(weight * func(x=x))\n",
    "\n",
    "def func_integral(x=None):\n",
    "    return(- 0.3 * x + x**3 / 3. + 0.05 * x**4 / 4. - 0.05 * x**5 / 5. +\n",
    "           0.0017 * x**7 / 7. - 0.0004 * x**8 / 8. + 0.00002 * x**9 / 9.)"
   ]
  },
  {
   "cell_type": "code",
   "execution_count": 109,
   "metadata": {
    "collapsed": false
   },
   "outputs": [
    {
     "data": {
      "text/plain": [
       "[<matplotlib.lines.Line2D at 0x10ebf90b8>]"
      ]
     },
     "execution_count": 109,
     "metadata": {},
     "output_type": "execute_result"
    },
    {
     "data": {
      "image/png": "[encoded data removed]",
      "text/plain": [
       "<matplotlib.figure.Figure at 0x10d4f7ef0>"
      ]
     },
     "metadata": {},
     "output_type": "display_data"
    }
   ],
   "source": [
    "x = np.arange(1000) / np.float64(999) * (range[1] - range[0]) + range[0]\n",
    "plt.plot(x, func(x))"
   ]
  },
  {
   "cell_type": "code",
   "execution_count": 114,
   "metadata": {
    "collapsed": false
   },
   "outputs": [
    {
     "name": "stdout",
     "output_type": "stream",
     "text": [
      "20.5105229592\n",
      "20.5114087302\n",
      "-0.000885770994238\n"
     ]
    }
   ],
   "source": [
    "gauss_integral = (func_rescale(xp, range=range) * gauss_weights).sum()\n",
    "real_integral = func_integral(x=range[1]) - func_integral(x=range[0])\n",
    "print(gauss_integral)\n",
    "print(real_integral)\n",
    "print(gauss_integral - real_integral)"
   ]
  },
  {
   "cell_type": "code",
   "execution_count": 115,
   "metadata": {
    "collapsed": false
   },
   "outputs": [
    {
     "name": "stdout",
     "output_type": "stream",
     "text": [
      "20.5105229592\n",
      "20.5114087302\n",
      "-0.000885770975056\n"
     ]
    }
   ],
   "source": [
    "(gauss_integral, none) = integrate.fixed_quad(func, range[0], range[1], n=4)\n",
    "print(gauss_integral)\n",
    "print(real_integral)\n",
    "print(gauss_integral - real_integral)"
   ]
  },
  {
   "cell_type": "code",
   "execution_count": 116,
   "metadata": {
    "collapsed": false
   },
   "outputs": [
    {
     "name": "stdout",
     "output_type": "stream",
     "text": [
      "20.5114087302\n",
      "20.5114087302\n",
      "0.0\n"
     ]
    }
   ],
   "source": [
    "(gauss_integral, none) = integrate.fixed_quad(func, range[0], range[1], n=5)\n",
    "print(gauss_integral)\n",
    "print(real_integral)\n",
    "print(gauss_integral - real_integral)"
   ]
  },
  {
   "cell_type": "code",
   "execution_count": null,
   "metadata": {
    "collapsed": true
   },
   "outputs": [],
   "source": []
  }
 ],
 "metadata": {
  "kernelspec": {
   "display_name": "Python 3",
   "language": "python",
   "name": "python3"
  },
  "language_info": {
   "codemirror_mode": {
    "name": "ipython",
    "version": 3
   },
   "file_extension": ".py",
   "mimetype": "text/x-python",
   "name": "python",
   "nbconvert_exporter": "python",
   "pygments_lexer": "ipython3",
   "version": "3.5.2"
  }
 },
 "nbformat": 4,
 "nbformat_minor": 2
}
