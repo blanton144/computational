{
 "cells": [
  {
   "cell_type": "code",
   "execution_count": 2,
   "metadata": {
    "collapsed": true
   },
   "outputs": [],
   "source": [
    "%matplotlib inline\n",
    "import matplotlib.pyplot as plt\n",
    "import numpy as np\n",
    "import scipy.integrate as integrate"
   ]
  },
  {
   "cell_type": "markdown",
   "metadata": {},
   "source": [
    "## Definition of a test function"
   ]
  },
  {
   "cell_type": "markdown",
   "metadata": {},
   "source": [
    "We define a function \"func\" with a known integral, which we cast as another function \"func_integral\"."
   ]
  },
  {
   "cell_type": "code",
   "execution_count": 3,
   "metadata": {
    "collapsed": true
   },
   "outputs": [],
   "source": [
    "def func(x=None):\n",
    "    return(- 0.3 + x**2 + 0.05 * x**3 - 0.05 * x**4)\n",
    "\n",
    "def func_integral(x=None):\n",
    "    return(- 0.3 * x + x**3 / 3. + 0.05 * x**4 / 4. - 0.05 * x**5 / 5.)"
   ]
  },
  {
   "cell_type": "code",
   "execution_count": 4,
   "metadata": {
    "collapsed": true
   },
   "outputs": [],
   "source": [
    "num = 1000\n",
    "x = 6. * (np.arange(num, dtype=np.float64) + 0.5) / np.float64(num)"
   ]
  },
  {
   "cell_type": "code",
   "execution_count": 5,
   "metadata": {
    "collapsed": false
   },
   "outputs": [
    {
     "data": {
      "text/plain": [
       "<matplotlib.text.Text at 0x10d9bc278>"
      ]
     },
     "execution_count": 5,
     "metadata": {},
     "output_type": "execute_result"
    },
    {
     "data": {
      "image/png": "[encoded data removed]",
      "text/plain": [
       "<matplotlib.figure.Figure at 0x10d962fd0>"
      ]
     },
     "metadata": {},
     "output_type": "display_data"
    }
   ],
   "source": [
    "plt.plot(x, func(x))\n",
    "plt.xlabel('x')\n",
    "plt.ylabel('func')"
   ]
  },
  {
   "cell_type": "code",
   "execution_count": 6,
   "metadata": {
    "collapsed": false
   },
   "outputs": [
    {
     "data": {
      "text/plain": [
       "<matplotlib.text.Text at 0x10da70278>"
      ]
     },
     "execution_count": 6,
     "metadata": {},
     "output_type": "execute_result"
    },
    {
     "data": {
      "image/png": "[encoded data removed]",
      "text/plain": [
       "<matplotlib.figure.Figure at 0x10da23b38>"
      ]
     },
     "metadata": {},
     "output_type": "display_data"
    }
   ],
   "source": [
    "plt.plot(x, func_integral(x))\n",
    "plt.xlabel('x')\n",
    "plt.ylabel('func_integral')"
   ]
  },
  {
   "cell_type": "markdown",
   "metadata": {},
   "source": [
    "## Trapezoid method for integration"
   ]
  },
  {
   "cell_type": "markdown",
   "metadata": {},
   "source": [
    "We can use the trapezoid method to integrate the function. Basically, this is a weighted some of a bunch of different, equally spaced locations. It is equal to the integration of the linear interpolation of the function between the equally spaced points."
   ]
  },
  {
   "cell_type": "code",
   "execution_count": 7,
   "metadata": {
    "collapsed": false
   },
   "outputs": [],
   "source": [
    "range = [0., 5.]\n",
    "num = 1001\n",
    "x = range[0] + (range[1] - range[0]) * (np.arange(num, dtype=np.float64)) / np.float64(num - 1.)\n",
    "dx = (range[1] - range[0]) / np.float64(num - 1.)"
   ]
  },
  {
   "cell_type": "code",
   "execution_count": 8,
   "metadata": {
    "collapsed": false
   },
   "outputs": [],
   "source": [
    "traps_weights = np.ones(num, dtype=np.float64)\n",
    "traps_weights[0] = traps_weights[0] * 0.5\n",
    "traps_weights[-1] = traps_weights[-1] * 0.5"
   ]
  },
  {
   "cell_type": "markdown",
   "metadata": {},
   "source": [
    "Except for the end-points, this is just equivalent to adding up the function in steps with spacing dx, weighted by dx."
   ]
  },
  {
   "cell_type": "code",
   "execution_count": 9,
   "metadata": {
    "collapsed": false
   },
   "outputs": [
    {
     "name": "stdout",
     "output_type": "stream",
     "text": [
      "[ 0.5  1.   1.  ...,  1.   1.   0.5]\n"
     ]
    }
   ],
   "source": [
    "print(traps_weights)"
   ]
  },
  {
   "cell_type": "code",
   "execution_count": 10,
   "metadata": {
    "collapsed": false
   },
   "outputs": [
    {
     "name": "stdout",
     "output_type": "stream",
     "text": [
      "16.7291432292\n",
      "16.729166666666664\n",
      "-2.34374947929e-05\n",
      "-1.40099595275e-06\n"
     ]
    }
   ],
   "source": [
    "traps_integral = (func(x) * traps_weights * dx).sum()\n",
    "print(traps_integral)\n",
    "real_integral = func_integral(range[1]) - func_integral(range[0])\n",
    "print(real_integral)\n",
    "print(traps_integral - real_integral)\n",
    "print((traps_integral - real_integral) / real_integral)"
   ]
  },
  {
   "cell_type": "markdown",
   "metadata": {},
   "source": [
    "## Simpsons method"
   ]
  },
  {
   "cell_type": "markdown",
   "metadata": {},
   "source": [
    "If the trapezoid method is the integration of a linear interpolation, Simpson's method is the integration of a quadratic interpolation, where the interpolation done within pairs of intervals, or triplets of points."
   ]
  },
  {
   "cell_type": "code",
   "execution_count": 11,
   "metadata": {
    "collapsed": false
   },
   "outputs": [],
   "source": [
    "num = 1001\n",
    "x = range[0] + (range[1] - range[0]) * (np.arange(num, dtype=np.float64)) / np.float64(num - 1.)\n",
    "dx = (range[1] - range[0]) / np.float64(num - 1.)\n",
    "simps_weights = np.zeros(num, dtype=np.float64)\n",
    "simps_weights[0] = 1. / 3.\n",
    "simps_weights[-1] = 1. / 3.\n",
    "simps_weights[1:-1:2] = np.zeros(num // 2, dtype=np.float64) + 4. / 3.\n",
    "simps_weights[2:-1:2] = np.zeros(num // 2 - 1, dtype=np.float64) + 2. / 3."
   ]
  },
  {
   "cell_type": "code",
   "execution_count": 12,
   "metadata": {
    "collapsed": false
   },
   "outputs": [
    {
     "name": "stdout",
     "output_type": "stream",
     "text": [
      "[ 0.33333333  1.33333333  0.66666667 ...,  0.66666667  1.33333333\n",
      "  0.33333333]\n"
     ]
    }
   ],
   "source": [
    "print(simps_weights)"
   ]
  },
  {
   "cell_type": "code",
   "execution_count": 13,
   "metadata": {
    "collapsed": false
   },
   "outputs": [
    {
     "name": "stdout",
     "output_type": "stream",
     "text": [
      "16.7291666666\n",
      "16.729166666666664\n",
      "-2.08331130125e-11\n",
      "-1.24531684259e-12\n"
     ]
    }
   ],
   "source": [
    "simps_integral = (func(x) * simps_weights * dx).sum()\n",
    "print(simps_integral)\n",
    "real_integral = func_integral(range[1]) - func_integral(range[0])\n",
    "print(real_integral)\n",
    "print(simps_integral - real_integral)\n",
    "print((simps_integral - real_integral) / real_integral)"
   ]
  },
  {
   "cell_type": "markdown",
   "metadata": {
    "collapsed": true
   },
   "source": [
    "## Remapping integration limits"
   ]
  },
  {
   "cell_type": "markdown",
   "metadata": {},
   "source": [
    "In order to deal with integrations to infinity, or for other reasons, it can be useful to remap integration limits. In this example, we integration $e^{-x}$ from 0 to $\\infty$."
   ]
  },
  {
   "cell_type": "code",
   "execution_count": 14,
   "metadata": {
    "collapsed": true
   },
   "outputs": [],
   "source": [
    "def func(x=None):\n",
    "    return (np.exp(- x))"
   ]
  },
  {
   "cell_type": "code",
   "execution_count": 15,
   "metadata": {
    "collapsed": true
   },
   "outputs": [],
   "source": [
    "def func_rescale(xp=None, a=None):\n",
    "    x = a * (1. + xp) / (1. - xp)\n",
    "    weight = 2. * a / (1. - xp)**2\n",
    "    return (weight * func(x=x))"
   ]
  },
  {
   "cell_type": "code",
   "execution_count": 16,
   "metadata": {
    "collapsed": true
   },
   "outputs": [],
   "source": [
    "num = 1001\n",
    "range = np.array([-1., 1.], dtype=np.float64)\n",
    "x = range[0] + (range[1] - range[0]) * (np.arange(num, dtype=np.float64)) / np.float64(num)\n",
    "dx = (range[1] - range[0]) / np.float64(num)\n",
    "simps_weights = np.zeros(num, dtype=np.float64)\n",
    "simps_weights[0] = 1. / 3.\n",
    "simps_weights[-1] = 1. / 3.\n",
    "simps_weights[1:-1:2] = np.zeros(num // 2, dtype=np.float64) + 4. / 3.\n",
    "simps_weights[2:-1:2] = np.zeros(num // 2 - 1, dtype=np.float64) + 2. / 3."
   ]
  },
  {
   "cell_type": "markdown",
   "metadata": {},
   "source": [
    "There is a parameter $a$ in the remapping that needs to be set. The integration is most accurate if $a$ is somewhere near where the integral reaches about half its total value."
   ]
  },
  {
   "cell_type": "code",
   "execution_count": 17,
   "metadata": {
    "collapsed": false
   },
   "outputs": [
    {
     "name": "stdout",
     "output_type": "stream",
     "text": [
      "6.43449737936e-11\n"
     ]
    }
   ],
   "source": [
    "a = 0.1\n",
    "simps_integral = (func_rescale(x, a=a) * simps_weights * dx).sum()\n",
    "print(simps_integral - 1.)"
   ]
  },
  {
   "cell_type": "code",
   "execution_count": 18,
   "metadata": {
    "collapsed": false
   },
   "outputs": [
    {
     "name": "stdout",
     "output_type": "stream",
     "text": [
      "5.55111512313e-15\n"
     ]
    }
   ],
   "source": [
    "a = 1.\n",
    "simps_integral = (func_rescale(x, a=a) * simps_weights * dx).sum()\n",
    "print(simps_integral - 1.)"
   ]
  },
  {
   "cell_type": "code",
   "execution_count": 19,
   "metadata": {
    "collapsed": false
   },
   "outputs": [
    {
     "name": "stdout",
     "output_type": "stream",
     "text": [
      "7.52531370551e-12\n"
     ]
    }
   ],
   "source": [
    "a = 10.\n",
    "simps_integral = (func_rescale(x, a=a) * simps_weights * dx).sum()\n",
    "print(simps_integral - 1.)"
   ]
  },
  {
   "cell_type": "markdown",
   "metadata": {},
   "source": [
    "## Fixed-order Gaussian quadrature"
   ]
  },
  {
   "cell_type": "markdown",
   "metadata": {},
   "source": [
    "With only $N$ points, Gaussian quadrature achieves a really high order of integration ($2N-1$). Here we explicitly perform 4th order Gaussian quadrature."
   ]
  },
  {
   "cell_type": "code",
   "execution_count": 20,
   "metadata": {
    "collapsed": true
   },
   "outputs": [],
   "source": [
    "y1 = np.float64(0.339981043585)\n",
    "y2 = np.float64(0.861136311594)\n",
    "w1 = np.float64(0.652145154862)\n",
    "w2 = np.float64(0.347854845137)\n",
    "xp = np.array([- y2, - y1, y1, y2], dtype=np.float64)\n",
    "gauss_weights = np.array([w2, w1, w1, w2], dtype=np.float64)"
   ]
  },
  {
   "cell_type": "code",
   "execution_count": 21,
   "metadata": {
    "collapsed": true
   },
   "outputs": [],
   "source": [
    "def func(x=None):\n",
    "    return(- 0.3 + x**2 + 0.05 * x**3 - 0.05 * x**4)\n",
    "\n",
    "def func_rescale(xp=None, range=None):\n",
    "    weight = (range[1] - range[0]) * 0.5\n",
    "    x = range[0] + 0.5 * (range[1] - range[0]) * (xp + 1.)\n",
    "    return(weight * func(x=x))\n",
    "\n",
    "def func_integral(x=None):\n",
    "    return(- 0.3 * x + x**3 / 3. + 0.05 * x**4 / 4. - 0.05 * x**5 / 5.)"
   ]
  },
  {
   "cell_type": "code",
   "execution_count": 22,
   "metadata": {
    "collapsed": false
   },
   "outputs": [
    {
     "name": "stdout",
     "output_type": "stream",
     "text": [
      "16.7291666667\n",
      "16.7291666667\n",
      "-1.53335122377e-11\n"
     ]
    }
   ],
   "source": [
    "range = np.array([0., 5.], dtype=np.float64)\n",
    "gauss_integral = (func_rescale(xp, range=range) * gauss_weights).sum()\n",
    "real_integral = func_integral(x=range[1]) - func_integral(x=range[0])\n",
    "print(gauss_integral)\n",
    "print(real_integral)\n",
    "print(gauss_integral - real_integral)"
   ]
  },
  {
   "cell_type": "markdown",
   "metadata": {},
   "source": [
    "It will work really well up to 7th order polynomials."
   ]
  },
  {
   "cell_type": "code",
   "execution_count": 23,
   "metadata": {
    "collapsed": true
   },
   "outputs": [],
   "source": [
    "def func(x=None):\n",
    "    return(- 0.3 + x**2 + 0.05 * x**3 - 0.05 * x**4 + 0.0017 * x**6 - 0.0004 * x**7)\n",
    "\n",
    "def func_rescale(xp=None, range=None):\n",
    "    weight = (range[1] - range[0]) * 0.5\n",
    "    x = range[0] + 0.5 * (range[1] - range[0]) * (xp + 1.)\n",
    "    return(weight * func(x=x))\n",
    "\n",
    "def func_integral(x=None):\n",
    "    return(- 0.3 * x + x**3 / 3. + 0.05 * x**4 / 4. - 0.05 * x**5 / 5. +\n",
    "           0.0017 * x**7 / 7. - 0.0004 * x**8 / 8.)"
   ]
  },
  {
   "cell_type": "code",
   "execution_count": 24,
   "metadata": {
    "collapsed": false
   },
   "outputs": [
    {
     "data": {
      "text/plain": [
       "[<matplotlib.lines.Line2D at 0x10db2ba90>]"
      ]
     },
     "execution_count": 24,
     "metadata": {},
     "output_type": "execute_result"
    },
    {
     "data": {
      "image/png": "[encoded data removed]",
      "text/plain": [
       "<matplotlib.figure.Figure at 0x10dad3320>"
      ]
     },
     "metadata": {},
     "output_type": "display_data"
    }
   ],
   "source": [
    "x = np.arange(1000) / np.float64(999) * (range[1] - range[0]) + range[0]\n",
    "plt.plot(x, func(x))"
   ]
  },
  {
   "cell_type": "code",
   "execution_count": 25,
   "metadata": {
    "collapsed": false
   },
   "outputs": [
    {
     "name": "stdout",
     "output_type": "stream",
     "text": [
      "16.1711309524\n",
      "16.1711309524\n",
      "-1.33404398639e-11\n"
     ]
    }
   ],
   "source": [
    "gauss_integral = (func_rescale(xp, range=range) * gauss_weights).sum()\n",
    "real_integral = func_integral(x=range[1]) - func_integral(x=range[0])\n",
    "print(gauss_integral)\n",
    "print(real_integral)\n",
    "print(gauss_integral - real_integral)"
   ]
  },
  {
   "cell_type": "markdown",
   "metadata": {},
   "source": [
    "For 8th order polynomials and above, it will start to exhibit approximation errors."
   ]
  },
  {
   "cell_type": "code",
   "execution_count": 26,
   "metadata": {
    "collapsed": true
   },
   "outputs": [],
   "source": [
    "def func(x=None):\n",
    "    return(- 0.3 + x**2 + 0.05 * x**3 - 0.05 * x**4 + 0.0017 * x**6 - 0.0004 * x**7 + 0.00002 * x**8)\n",
    "\n",
    "def func_rescale(xp=None, range=None):\n",
    "    weight = (range[1] - range[0]) * 0.5\n",
    "    x = range[0] + 0.5 * (range[1] - range[0]) * (xp + 1.)\n",
    "    return(weight * func(x=x))\n",
    "\n",
    "def func_integral(x=None):\n",
    "    return(- 0.3 * x + x**3 / 3. + 0.05 * x**4 / 4. - 0.05 * x**5 / 5. +\n",
    "           0.0017 * x**7 / 7. - 0.0004 * x**8 / 8. + 0.00002 * x**9 / 9.)"
   ]
  },
  {
   "cell_type": "code",
   "execution_count": 27,
   "metadata": {
    "collapsed": false
   },
   "outputs": [
    {
     "data": {
      "text/plain": [
       "[<matplotlib.lines.Line2D at 0x10dbe97b8>]"
      ]
     },
     "execution_count": 27,
     "metadata": {},
     "output_type": "execute_result"
    },
    {
     "data": {
      "image/png": "[encoded data removed]",
      "text/plain": [
       "<matplotlib.figure.Figure at 0x10da741d0>"
      ]
     },
     "metadata": {},
     "output_type": "display_data"
    }
   ],
   "source": [
    "x = np.arange(1000) / np.float64(999) * (range[1] - range[0]) + range[0]\n",
    "plt.plot(x, func(x))"
   ]
  },
  {
   "cell_type": "code",
   "execution_count": 28,
   "metadata": {
    "collapsed": false
   },
   "outputs": [
    {
     "name": "stdout",
     "output_type": "stream",
     "text": [
      "20.5105229592\n",
      "20.5114087302\n",
      "-0.000885770994238\n"
     ]
    }
   ],
   "source": [
    "gauss_integral = (func_rescale(xp, range=range) * gauss_weights).sum()\n",
    "real_integral = func_integral(x=range[1]) - func_integral(x=range[0])\n",
    "print(gauss_integral)\n",
    "print(real_integral)\n",
    "print(gauss_integral - real_integral)"
   ]
  },
  {
   "cell_type": "markdown",
   "metadata": {},
   "source": [
    "## SciPy Implementation"
   ]
  },
  {
   "cell_type": "markdown",
   "metadata": {},
   "source": [
    "SciPy has a module for integration using these and other techniques. We can reproduce the above results, and also easily reach to higher order."
   ]
  },
  {
   "cell_type": "code",
   "execution_count": 29,
   "metadata": {
    "collapsed": false
   },
   "outputs": [
    {
     "name": "stdout",
     "output_type": "stream",
     "text": [
      "20.5105229592\n",
      "20.5114087302\n",
      "-0.000885770975056\n"
     ]
    }
   ],
   "source": [
    "(gauss_integral, none) = integrate.fixed_quad(func, range[0], range[1], n=4)\n",
    "print(gauss_integral)\n",
    "print(real_integral)\n",
    "print(gauss_integral - real_integral)"
   ]
  },
  {
   "cell_type": "code",
   "execution_count": 30,
   "metadata": {
    "collapsed": false
   },
   "outputs": [
    {
     "name": "stdout",
     "output_type": "stream",
     "text": [
      "20.5114087302\n",
      "20.5114087302\n",
      "0.0\n"
     ]
    }
   ],
   "source": [
    "(gauss_integral, none) = integrate.fixed_quad(func, range[0], range[1], n=5)\n",
    "print(gauss_integral)\n",
    "print(real_integral)\n",
    "print(gauss_integral - real_integral)"
   ]
  },
  {
   "cell_type": "markdown",
   "metadata": {},
   "source": [
    "Here we return to the exponential, which shows how to remap this to the range [-1, 1] and demonstrates performance of fixed_quad."
   ]
  },
  {
   "cell_type": "code",
   "execution_count": 31,
   "metadata": {
    "collapsed": true
   },
   "outputs": [],
   "source": [
    "def func(x=None):\n",
    "    return (np.exp(- x))\n",
    "\n",
    "def func_rescale(xp=None, a=None):\n",
    "    x = a * (1. + xp) / (1. - xp)\n",
    "    weight = 2. * a / (1. - xp)**2\n",
    "    return (weight * func(x=x))"
   ]
  },
  {
   "cell_type": "code",
   "execution_count": 32,
   "metadata": {
    "collapsed": false
   },
   "outputs": [
    {
     "name": "stdout",
     "output_type": "stream",
     "text": [
      "1.00263507657\n",
      "0.00263507656551\n"
     ]
    }
   ],
   "source": [
    "range = np.array([-1., 1.], dtype=np.float64)\n",
    "(gauss_integral, none) = integrate.fixed_quad(func_rescale, range[0], range[1], args=(np.float64(1.),), n=5)\n",
    "print(gauss_integral)\n",
    "print(gauss_integral - 1.)"
   ]
  },
  {
   "cell_type": "code",
   "execution_count": 33,
   "metadata": {
    "collapsed": false
   },
   "outputs": [
    {
     "name": "stdout",
     "output_type": "stream",
     "text": [
      "1.00000042719\n",
      "4.27190940622e-07\n"
     ]
    }
   ],
   "source": [
    "range = np.array([-1., 1.], dtype=np.float64)\n",
    "(gauss_integral, none) = integrate.fixed_quad(func_rescale, range[0], range[1], args=(np.float64(1.),), n=20)\n",
    "print(gauss_integral)\n",
    "print(gauss_integral - 1.)"
   ]
  },
  {
   "cell_type": "markdown",
   "metadata": {},
   "source": [
    "But the method is quite bad if there is a singularity, as in $1/\\sqrt{1-x^2}$."
   ]
  },
  {
   "cell_type": "code",
   "execution_count": 72,
   "metadata": {
    "collapsed": true
   },
   "outputs": [],
   "source": [
    "def func_f(x=None):\n",
    "    return (1.)\n",
    "\n",
    "def func(x=None):\n",
    "    return (func_f(x) * (1. / np.sqrt(1. - x**2)))"
   ]
  },
  {
   "cell_type": "code",
   "execution_count": 73,
   "metadata": {
    "collapsed": false
   },
   "outputs": [
    {
     "name": "stdout",
     "output_type": "stream",
     "text": [
      "2.82541007946\n",
      "-0.316182574131\n"
     ]
    }
   ],
   "source": [
    "range = np.array([-1., 1.], dtype=np.float64)\n",
    "(gauss_integral, none) = integrate.fixed_quad(func, range[0], range[1], n=5)\n",
    "print(gauss_integral)\n",
    "print(gauss_integral - np.pi)"
   ]
  },
  {
   "cell_type": "markdown",
   "metadata": {
    "collapsed": true
   },
   "source": [
    "Gauss-Chebyshev polynomials are the right thing to use for it."
   ]
  },
  {
   "cell_type": "code",
   "execution_count": 74,
   "metadata": {
    "collapsed": false
   },
   "outputs": [],
   "source": [
    "(x, weight) = np.polynomial.chebyshev.chebgauss(10)"
   ]
  },
  {
   "cell_type": "code",
   "execution_count": 76,
   "metadata": {
    "collapsed": false
   },
   "outputs": [
    {
     "name": "stdout",
     "output_type": "stream",
     "text": [
      "3.14159265359\n",
      "0.0\n"
     ]
    }
   ],
   "source": [
    "gausscheb_integral = (func_f(x) * weight).sum()\n",
    "print(gausscheb_integral)\n",
    "print(gausscheb_integral - np.pi)"
   ]
  },
  {
   "cell_type": "code",
   "execution_count": null,
   "metadata": {
    "collapsed": true
   },
   "outputs": [],
   "source": []
  }
 ],
 "metadata": {
  "kernelspec": {
   "display_name": "Python 3",
   "language": "python",
   "name": "python3"
  },
  "language_info": {
   "codemirror_mode": {
    "name": "ipython",
    "version": 3
   },
   "file_extension": ".py",
   "mimetype": "text/x-python",
   "name": "python",
   "nbconvert_exporter": "python",
   "pygments_lexer": "ipython3",
   "version": "3.5.2"
  }
 },
 "nbformat": 4,
 "nbformat_minor": 2
}
