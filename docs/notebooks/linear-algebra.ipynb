{
 "cells": [
  {
   "cell_type": "code",
   "execution_count": 1,
   "metadata": {
    "collapsed": true
   },
   "outputs": [],
   "source": [
    "%matplotlib inline\n",
    "import matplotlib.pyplot as plt\n",
    "import numpy as np\n",
    "import numpy.linalg as linalg"
   ]
  },
  {
   "cell_type": "markdown",
   "metadata": {},
   "source": [
    "## Matrix operations  in NumPy"
   ]
  },
  {
   "cell_type": "markdown",
   "metadata": {},
   "source": [
    "If we define a vector and matrix, we can multiply them explicitly, but it is better to use NumPy routines."
   ]
  },
  {
   "cell_type": "code",
   "execution_count": 2,
   "metadata": {
    "collapsed": true
   },
   "outputs": [],
   "source": [
    "n = 30000\n",
    "A = np.zeros((n, n))\n",
    "x = np.zeros(n)"
   ]
  },
  {
   "cell_type": "code",
   "execution_count": 3,
   "metadata": {
    "collapsed": false
   },
   "outputs": [],
   "source": [
    "def explicit(A=None, x=None):\n",
    "    n = A.shape[0]\n",
    "    b = np.zeros(n)\n",
    "    for i in np.arange(n):\n",
    "        b[i] = (A[i, :] * x).sum()\n",
    "    return(b)"
   ]
  },
  {
   "cell_type": "code",
   "execution_count": 4,
   "metadata": {
    "collapsed": false
   },
   "outputs": [
    {
     "name": "stdout",
     "output_type": "stream",
     "text": [
      "1 loop, best of 3: 1.5 s per loop\n"
     ]
    }
   ],
   "source": [
    "%timeit b = explicit(A=A, x=x)"
   ]
  },
  {
   "cell_type": "code",
   "execution_count": 5,
   "metadata": {
    "collapsed": false
   },
   "outputs": [
    {
     "name": "stdout",
     "output_type": "stream",
     "text": [
      "1 loop, best of 3: 334 ms per loop\n"
     ]
    }
   ],
   "source": [
    "%timeit b = A.dot(x)"
   ]
  },
  {
   "cell_type": "markdown",
   "metadata": {},
   "source": [
    "One can also make outer products and other operations with NumPy arrays."
   ]
  },
  {
   "cell_type": "code",
   "execution_count": 10,
   "metadata": {
    "collapsed": false
   },
   "outputs": [
    {
     "name": "stdout",
     "output_type": "stream",
     "text": [
      "(100, 50)\n"
     ]
    }
   ],
   "source": [
    "x = np.zeros(100)\n",
    "q = np.zeros(50)\n",
    "y = np.outer(x, q)\n",
    "print(y.shape)"
   ]
  },
  {
   "cell_type": "markdown",
   "metadata": {},
   "source": [
    "And the numpy.linalg module contains a plethora of other operations."
   ]
  },
  {
   "cell_type": "code",
   "execution_count": 11,
   "metadata": {
    "collapsed": false
   },
   "outputs": [
    {
     "name": "stdout",
     "output_type": "stream",
     "text": [
      "0.0\n"
     ]
    }
   ],
   "source": [
    "y = np.zeros((100, 100))\n",
    "print(linalg.det(y))"
   ]
  },
  {
   "cell_type": "markdown",
   "metadata": {},
   "source": [
    "## Solving a linear system"
   ]
  },
  {
   "cell_type": "code",
   "execution_count": 32,
   "metadata": {
    "collapsed": true
   },
   "outputs": [],
   "source": [
    "n = 20\n",
    "A = np.random.random((20, 20))\n",
    "x_actual = np.random.random(20)"
   ]
  },
  {
   "cell_type": "code",
   "execution_count": 33,
   "metadata": {
    "collapsed": false
   },
   "outputs": [
    {
     "data": {
      "text/plain": [
       "<matplotlib.colorbar.Colorbar at 0x10d4fcef0>"
      ]
     },
     "execution_count": 33,
     "metadata": {},
     "output_type": "execute_result"
    },
    {
     "data": {
      "image/png": "[encoded data removed]",
      "text/plain": [
       "<matplotlib.figure.Figure at 0x10e0598d0>"
      ]
     },
     "metadata": {},
     "output_type": "display_data"
    }
   ],
   "source": [
    "plt.imshow(A)\n",
    "plt.colorbar()"
   ]
  },
  {
   "cell_type": "code",
   "execution_count": 34,
   "metadata": {
    "collapsed": false
   },
   "outputs": [
    {
     "data": {
      "text/plain": [
       "<matplotlib.colorbar.Colorbar at 0x10d550cc0>"
      ]
     },
     "execution_count": 34,
     "metadata": {},
     "output_type": "execute_result"
    },
    {
     "data": {
      "image/png": "[encoded data removed]",
      "text/plain": [
       "<matplotlib.figure.Figure at 0x10d7bba90>"
      ]
     },
     "metadata": {},
     "output_type": "display_data"
    }
   ],
   "source": [
    "plt.imshow(x_actual.reshape((20, 1)))\n",
    "plt.colorbar()"
   ]
  },
  {
   "cell_type": "code",
   "execution_count": 35,
   "metadata": {
    "collapsed": true
   },
   "outputs": [],
   "source": [
    "b = A.dot(x_actual)"
   ]
  },
  {
   "cell_type": "code",
   "execution_count": 36,
   "metadata": {
    "collapsed": true
   },
   "outputs": [],
   "source": [
    "x = linalg.solve(A, b).reshape(n)"
   ]
  },
  {
   "cell_type": "code",
   "execution_count": 37,
   "metadata": {
    "collapsed": false
   },
   "outputs": [
    {
     "name": "stdout",
     "output_type": "stream",
     "text": [
      "[ 0.71999958  0.61592846  0.00944744  0.90218934  0.09502431  0.58581859\n",
      "  0.3095642   0.57030069  0.38079224  0.37816019  0.2789396   0.0908622\n",
      "  0.31026377  0.3085162   0.21491598  0.59246296  0.51043701  0.78970687\n",
      "  0.51542921  0.95314045]\n"
     ]
    }
   ],
   "source": [
    "print(x)"
   ]
  },
  {
   "cell_type": "code",
   "execution_count": 39,
   "metadata": {
    "collapsed": false
   },
   "outputs": [
    {
     "name": "stdout",
     "output_type": "stream",
     "text": [
      "[  1.77635684e-15  -2.55351296e-15  -2.63851441e-15   1.22124533e-15\n",
      "   2.56739074e-15   1.99840144e-15   1.94289029e-15   1.11022302e-15\n",
      "  -2.88657986e-15   1.66533454e-15   1.44328993e-15  -3.33066907e-15\n",
      "  -3.33066907e-16  -4.16333634e-15  -4.57966998e-15   3.10862447e-15\n",
      "  -3.88578059e-15   9.32587341e-15  -7.32747196e-15   4.66293670e-15]\n"
     ]
    }
   ],
   "source": [
    "print(x - x_actual)"
   ]
  },
  {
   "cell_type": "markdown",
   "metadata": {},
   "source": [
    "We can also solve this by explicitly taking the inverse. If we are going to need to solve the equation more than $N$ times, this becomes worthwhile, because we can just calculate and save the inverse, and then apply it, rather than performing the backsubstitution explicitly every time."
   ]
  },
  {
   "cell_type": "code",
   "execution_count": 41,
   "metadata": {
    "collapsed": false
   },
   "outputs": [
    {
     "name": "stdout",
     "output_type": "stream",
     "text": [
      "[  1.01030295e-14   2.22044605e-15  -5.10702591e-15  -3.21964677e-15\n",
      "   9.99200722e-16  -2.88657986e-15  -1.99840144e-15   4.77395901e-15\n",
      "   2.22044605e-15  -1.03250741e-14   4.77395901e-15   7.21644966e-15\n",
      "  -9.99200722e-16  -5.88418203e-15  -4.10782519e-15   5.55111512e-16\n",
      "   2.77555756e-15  -5.55111512e-16   8.88178420e-15  -4.21884749e-15]\n"
     ]
    }
   ],
   "source": [
    "Ainv = linalg.inv(A)\n",
    "x = Ainv.dot(b)\n",
    "print(x - x_actual)"
   ]
  },
  {
   "cell_type": "markdown",
   "metadata": {},
   "source": [
    "## Trapezoid method for integration"
   ]
  },
  {
   "cell_type": "markdown",
   "metadata": {},
   "source": [
    "We can use the trapezoid method to integrate the function. Basically, this is a weighted some of a bunch of different, equally spaced locations. It is equal to the integration of the linear interpolation of the function between the equally spaced points."
   ]
  },
  {
   "cell_type": "code",
   "execution_count": 6,
   "metadata": {
    "collapsed": false
   },
   "outputs": [],
   "source": [
    "range = [0., 5.]\n",
    "num = 5555\n",
    "x = range[0] + (range[1] - range[0]) * (np.arange(num, dtype=np.float64)) / np.float64(num - 1.)\n",
    "dx = (range[1] - range[0]) / np.float64(num - 1.)"
   ]
  },
  {
   "cell_type": "code",
   "execution_count": 7,
   "metadata": {
    "collapsed": false
   },
   "outputs": [],
   "source": [
    "traps_weights = np.ones(num, dtype=np.float64)\n",
    "traps_weights[0] = traps_weights[0] * 0.5\n",
    "traps_weights[-1] = traps_weights[-1] * 0.5"
   ]
  },
  {
   "cell_type": "markdown",
   "metadata": {},
   "source": [
    "Except for the end-points, this is just equivalent to adding up the function in steps with spacing dx, weighted by dx."
   ]
  },
  {
   "cell_type": "code",
   "execution_count": 8,
   "metadata": {
    "collapsed": false
   },
   "outputs": [
    {
     "name": "stdout",
     "output_type": "stream",
     "text": [
      "[ 0.5  1.   1.  ...,  1.   1.   0.5]\n"
     ]
    }
   ],
   "source": [
    "print(traps_weights)"
   ]
  },
  {
   "cell_type": "code",
   "execution_count": 9,
   "metadata": {
    "collapsed": false
   },
   "outputs": [
    {
     "name": "stdout",
     "output_type": "stream",
     "text": [
      "16.7291659069\n",
      "16.729166666666664\n",
      "-7.5980042169e-07\n",
      "-4.54177088931e-08\n"
     ]
    }
   ],
   "source": [
    "traps_integral = (func(x) * traps_weights * dx).sum()\n",
    "print(traps_integral)\n",
    "real_integral = func_integral(range[1]) - func_integral(range[0])\n",
    "print(real_integral)\n",
    "print(traps_integral - real_integral)\n",
    "print((traps_integral - real_integral) / real_integral)"
   ]
  },
  {
   "cell_type": "markdown",
   "metadata": {},
   "source": [
    "## Simpsons method"
   ]
  },
  {
   "cell_type": "markdown",
   "metadata": {},
   "source": [
    "If the trapezoid method is the integration of a linear interpolation, Simpson's method is the integration of a quadratic interpolation, where the interpolation done within pairs of intervals, or triplets of points."
   ]
  },
  {
   "cell_type": "code",
   "execution_count": 10,
   "metadata": {
    "collapsed": false
   },
   "outputs": [],
   "source": [
    "num = 1001\n",
    "x = range[0] + (range[1] - range[0]) * (np.arange(num, dtype=np.float64)) / np.float64(num - 1.)\n",
    "dx = (range[1] - range[0]) / np.float64(num - 1.)\n",
    "simps_weights = np.zeros(num, dtype=np.float64)\n",
    "simps_weights[0] = 1. / 3.\n",
    "simps_weights[-1] = 1. / 3.\n",
    "simps_weights[1:-1:2] = np.zeros(num // 2, dtype=np.float64) + 4. / 3.\n",
    "simps_weights[2:-1:2] = np.zeros(num // 2 - 1, dtype=np.float64) + 2. / 3."
   ]
  },
  {
   "cell_type": "code",
   "execution_count": 11,
   "metadata": {
    "collapsed": false
   },
   "outputs": [
    {
     "name": "stdout",
     "output_type": "stream",
     "text": [
      "[ 0.33333333  1.33333333  0.66666667 ...,  0.66666667  1.33333333\n",
      "  0.33333333]\n"
     ]
    }
   ],
   "source": [
    "print(simps_weights)"
   ]
  },
  {
   "cell_type": "code",
   "execution_count": 12,
   "metadata": {
    "collapsed": false
   },
   "outputs": [
    {
     "name": "stdout",
     "output_type": "stream",
     "text": [
      "16.7291666666\n",
      "16.729166666666664\n",
      "-2.08331130125e-11\n",
      "-1.24531684259e-12\n"
     ]
    }
   ],
   "source": [
    "simps_integral = (func(x) * simps_weights * dx).sum()\n",
    "print(simps_integral)\n",
    "real_integral = func_integral(range[1]) - func_integral(range[0])\n",
    "print(real_integral)\n",
    "print(simps_integral - real_integral)\n",
    "print((simps_integral - real_integral) / real_integral)"
   ]
  },
  {
   "cell_type": "markdown",
   "metadata": {
    "collapsed": true
   },
   "source": [
    "## Remapping integration limits"
   ]
  },
  {
   "cell_type": "markdown",
   "metadata": {},
   "source": [
    "In order to deal with integrations to infinity, or for other reasons, it can be useful to remap integration limits. In this example, we integration $e^{-x}$ from 0 to $\\infty$."
   ]
  },
  {
   "cell_type": "code",
   "execution_count": 13,
   "metadata": {
    "collapsed": true
   },
   "outputs": [],
   "source": [
    "def func(x=None):\n",
    "    return (np.exp(- x))"
   ]
  },
  {
   "cell_type": "code",
   "execution_count": 14,
   "metadata": {
    "collapsed": true
   },
   "outputs": [],
   "source": [
    "def func_rescale(xp=None, a=None):\n",
    "    x = a * (1. + xp) / (1. - xp)\n",
    "    weight = 2. * a / (1. - xp)**2\n",
    "    return (weight * func(x=x))"
   ]
  },
  {
   "cell_type": "code",
   "execution_count": 15,
   "metadata": {
    "collapsed": true
   },
   "outputs": [],
   "source": [
    "num = 1001\n",
    "range = np.array([-1., 1.], dtype=np.float64)\n",
    "x = range[0] + (range[1] - range[0]) * (np.arange(num, dtype=np.float64)) / np.float64(num)\n",
    "dx = (range[1] - range[0]) / np.float64(num)\n",
    "simps_weights = np.zeros(num, dtype=np.float64)\n",
    "simps_weights[0] = 1. / 3.\n",
    "simps_weights[-1] = 1. / 3.\n",
    "simps_weights[1:-1:2] = np.zeros(num // 2, dtype=np.float64) + 4. / 3.\n",
    "simps_weights[2:-1:2] = np.zeros(num // 2 - 1, dtype=np.float64) + 2. / 3."
   ]
  },
  {
   "cell_type": "markdown",
   "metadata": {},
   "source": [
    "There is a parameter $a$ in the remapping that needs to be set. The integration is most accurate if $a$ is somewhere near where the integral reaches about half its total value."
   ]
  },
  {
   "cell_type": "code",
   "execution_count": 16,
   "metadata": {
    "collapsed": false
   },
   "outputs": [
    {
     "name": "stdout",
     "output_type": "stream",
     "text": [
      "6.43449737936e-11\n"
     ]
    }
   ],
   "source": [
    "a = 0.1\n",
    "simps_integral = (func_rescale(x, a=a) * simps_weights * dx).sum()\n",
    "print(simps_integral - 1.)"
   ]
  },
  {
   "cell_type": "code",
   "execution_count": 17,
   "metadata": {
    "collapsed": false
   },
   "outputs": [
    {
     "name": "stdout",
     "output_type": "stream",
     "text": [
      "5.55111512313e-15\n"
     ]
    }
   ],
   "source": [
    "a = 1.\n",
    "simps_integral = (func_rescale(x, a=a) * simps_weights * dx).sum()\n",
    "print(simps_integral - 1.)"
   ]
  },
  {
   "cell_type": "code",
   "execution_count": 18,
   "metadata": {
    "collapsed": false
   },
   "outputs": [
    {
     "name": "stdout",
     "output_type": "stream",
     "text": [
      "7.52531370551e-12\n"
     ]
    }
   ],
   "source": [
    "a = 10.\n",
    "simps_integral = (func_rescale(x, a=a) * simps_weights * dx).sum()\n",
    "print(simps_integral - 1.)"
   ]
  },
  {
   "cell_type": "markdown",
   "metadata": {},
   "source": [
    "## Fixed-order Gaussian quadrature"
   ]
  },
  {
   "cell_type": "markdown",
   "metadata": {},
   "source": [
    "With only $N$ points, Gaussian quadrature achieves a really high order of integration ($2N-1$). Here we explicitly perform 4th order Gaussian quadrature."
   ]
  },
  {
   "cell_type": "code",
   "execution_count": 19,
   "metadata": {
    "collapsed": true
   },
   "outputs": [],
   "source": [
    "y1 = np.float64(0.339981043585)\n",
    "y2 = np.float64(0.861136311594)\n",
    "w1 = np.float64(0.652145154862)\n",
    "w2 = np.float64(0.347854845137)\n",
    "xp = np.array([- y2, - y1, y1, y2], dtype=np.float64)\n",
    "gauss_weights = np.array([w2, w1, w1, w2], dtype=np.float64)"
   ]
  },
  {
   "cell_type": "code",
   "execution_count": 20,
   "metadata": {
    "collapsed": true
   },
   "outputs": [],
   "source": [
    "def func(x=None):\n",
    "    return(- 0.3 + x**2 + 0.05 * x**3 - 0.05 * x**4)\n",
    "\n",
    "def func_rescale(xp=None, range=None):\n",
    "    weight = (range[1] - range[0]) * 0.5\n",
    "    x = range[0] + 0.5 * (range[1] - range[0]) * (xp + 1.)\n",
    "    return(weight * func(x=x))\n",
    "\n",
    "def func_integral(x=None):\n",
    "    return(- 0.3 * x + x**3 / 3. + 0.05 * x**4 / 4. - 0.05 * x**5 / 5.)"
   ]
  },
  {
   "cell_type": "code",
   "execution_count": 21,
   "metadata": {
    "collapsed": false
   },
   "outputs": [
    {
     "name": "stdout",
     "output_type": "stream",
     "text": [
      "16.7291666667\n",
      "16.7291666667\n",
      "-1.53335122377e-11\n"
     ]
    }
   ],
   "source": [
    "range = np.array([0., 5.], dtype=np.float64)\n",
    "gauss_integral = (func_rescale(xp, range=range) * gauss_weights).sum()\n",
    "real_integral = func_integral(x=range[1]) - func_integral(x=range[0])\n",
    "print(gauss_integral)\n",
    "print(real_integral)\n",
    "print(gauss_integral - real_integral)"
   ]
  },
  {
   "cell_type": "markdown",
   "metadata": {},
   "source": [
    "It will work really well up to 7th order polynomials."
   ]
  },
  {
   "cell_type": "code",
   "execution_count": 22,
   "metadata": {
    "collapsed": true
   },
   "outputs": [],
   "source": [
    "def func(x=None):\n",
    "    return(- 0.3 + x**2 + 0.05 * x**3 - 0.05 * x**4 + 0.0017 * x**6 - 0.0004 * x**7)\n",
    "\n",
    "def func_rescale(xp=None, range=None):\n",
    "    weight = (range[1] - range[0]) * 0.5\n",
    "    x = range[0] + 0.5 * (range[1] - range[0]) * (xp + 1.)\n",
    "    return(weight * func(x=x))\n",
    "\n",
    "def func_integral(x=None):\n",
    "    return(- 0.3 * x + x**3 / 3. + 0.05 * x**4 / 4. - 0.05 * x**5 / 5. +\n",
    "           0.0017 * x**7 / 7. - 0.0004 * x**8 / 8.)"
   ]
  },
  {
   "cell_type": "code",
   "execution_count": 23,
   "metadata": {
    "collapsed": false
   },
   "outputs": [
    {
     "data": {
      "text/plain": [
       "[<matplotlib.lines.Line2D at 0x10db21550>]"
      ]
     },
     "execution_count": 23,
     "metadata": {},
     "output_type": "execute_result"
    },
    {
     "data": {
      "image/png": "[encoded data removed]",
      "text/plain": [
       "<matplotlib.figure.Figure at 0x10dab2128>"
      ]
     },
     "metadata": {},
     "output_type": "display_data"
    }
   ],
   "source": [
    "x = np.arange(1000) / np.float64(999) * (range[1] - range[0]) + range[0]\n",
    "plt.plot(x, func(x))"
   ]
  },
  {
   "cell_type": "code",
   "execution_count": 24,
   "metadata": {
    "collapsed": false
   },
   "outputs": [
    {
     "name": "stdout",
     "output_type": "stream",
     "text": [
      "16.1711309524\n",
      "16.1711309524\n",
      "-1.33404398639e-11\n"
     ]
    }
   ],
   "source": [
    "gauss_integral = (func_rescale(xp, range=range) * gauss_weights).sum()\n",
    "real_integral = func_integral(x=range[1]) - func_integral(x=range[0])\n",
    "print(gauss_integral)\n",
    "print(real_integral)\n",
    "print(gauss_integral - real_integral)"
   ]
  },
  {
   "cell_type": "markdown",
   "metadata": {},
   "source": [
    "For 8th order polynomials and above, it will start to exhibit approximation errors."
   ]
  },
  {
   "cell_type": "code",
   "execution_count": 25,
   "metadata": {
    "collapsed": true
   },
   "outputs": [],
   "source": [
    "def func(x=None):\n",
    "    return(- 0.3 + x**2 + 0.05 * x**3 - 0.05 * x**4 + 0.0017 * x**6 - 0.0004 * x**7 + 0.00002 * x**8)\n",
    "\n",
    "def func_rescale(xp=None, range=None):\n",
    "    weight = (range[1] - range[0]) * 0.5\n",
    "    x = range[0] + 0.5 * (range[1] - range[0]) * (xp + 1.)\n",
    "    return(weight * func(x=x))\n",
    "\n",
    "def func_integral(x=None):\n",
    "    return(- 0.3 * x + x**3 / 3. + 0.05 * x**4 / 4. - 0.05 * x**5 / 5. +\n",
    "           0.0017 * x**7 / 7. - 0.0004 * x**8 / 8. + 0.00002 * x**9 / 9.)"
   ]
  },
  {
   "cell_type": "code",
   "execution_count": 26,
   "metadata": {
    "collapsed": false
   },
   "outputs": [
    {
     "data": {
      "text/plain": [
       "[<matplotlib.lines.Line2D at 0x10dbd6b38>]"
      ]
     },
     "execution_count": 26,
     "metadata": {},
     "output_type": "execute_result"
    },
    {
     "data": {
      "image/png": "[encoded data removed]",
      "text/plain": [
       "<matplotlib.figure.Figure at 0x10da3dd30>"
      ]
     },
     "metadata": {},
     "output_type": "display_data"
    }
   ],
   "source": [
    "x = np.arange(1000) / np.float64(999) * (range[1] - range[0]) + range[0]\n",
    "plt.plot(x, func(x))"
   ]
  },
  {
   "cell_type": "code",
   "execution_count": 27,
   "metadata": {
    "collapsed": false
   },
   "outputs": [
    {
     "name": "stdout",
     "output_type": "stream",
     "text": [
      "20.5105229592\n",
      "20.5114087302\n",
      "-0.000885770994238\n"
     ]
    }
   ],
   "source": [
    "gauss_integral = (func_rescale(xp, range=range) * gauss_weights).sum()\n",
    "real_integral = func_integral(x=range[1]) - func_integral(x=range[0])\n",
    "print(gauss_integral)\n",
    "print(real_integral)\n",
    "print(gauss_integral - real_integral)"
   ]
  },
  {
   "cell_type": "markdown",
   "metadata": {},
   "source": [
    "## SciPy Implementation"
   ]
  },
  {
   "cell_type": "markdown",
   "metadata": {},
   "source": [
    "SciPy has a module for integration using these and other techniques. We can reproduce the above results, and also easily reach to higher order."
   ]
  },
  {
   "cell_type": "code",
   "execution_count": 28,
   "metadata": {
    "collapsed": false
   },
   "outputs": [
    {
     "name": "stdout",
     "output_type": "stream",
     "text": [
      "20.5105229592\n",
      "20.5114087302\n",
      "-0.000885770975056\n"
     ]
    }
   ],
   "source": [
    "(gauss_integral, none) = integrate.fixed_quad(func, range[0], range[1], n=4)\n",
    "print(gauss_integral)\n",
    "print(real_integral)\n",
    "print(gauss_integral - real_integral)"
   ]
  },
  {
   "cell_type": "code",
   "execution_count": 29,
   "metadata": {
    "collapsed": false
   },
   "outputs": [
    {
     "name": "stdout",
     "output_type": "stream",
     "text": [
      "20.5114087302\n",
      "20.5114087302\n",
      "0.0\n"
     ]
    }
   ],
   "source": [
    "(gauss_integral, none) = integrate.fixed_quad(func, range[0], range[1], n=5)\n",
    "print(gauss_integral)\n",
    "print(real_integral)\n",
    "print(gauss_integral - real_integral)"
   ]
  },
  {
   "cell_type": "markdown",
   "metadata": {},
   "source": [
    "Here we return to the exponential, which shows how to remap this to the range [-1, 1] and demonstrates performance of fixed_quad."
   ]
  },
  {
   "cell_type": "code",
   "execution_count": 30,
   "metadata": {
    "collapsed": true
   },
   "outputs": [],
   "source": [
    "def func(x=None):\n",
    "    return (np.exp(- x))\n",
    "\n",
    "def func_rescale(xp=None, a=None):\n",
    "    x = a * (1. + xp) / (1. - xp)\n",
    "    weight = 2. * a / (1. - xp)**2\n",
    "    return (weight * func(x=x))"
   ]
  },
  {
   "cell_type": "code",
   "execution_count": 31,
   "metadata": {
    "collapsed": false
   },
   "outputs": [
    {
     "name": "stdout",
     "output_type": "stream",
     "text": [
      "1.00263507657\n",
      "0.00263507656551\n"
     ]
    }
   ],
   "source": [
    "range = np.array([-1., 1.], dtype=np.float64)\n",
    "(gauss_integral, none) = integrate.fixed_quad(func_rescale, range[0], range[1], args=(np.float64(1.),), n=5)\n",
    "print(gauss_integral)\n",
    "print(gauss_integral - 1.)"
   ]
  },
  {
   "cell_type": "code",
   "execution_count": 32,
   "metadata": {
    "collapsed": false
   },
   "outputs": [
    {
     "name": "stdout",
     "output_type": "stream",
     "text": [
      "1.00000042719\n",
      "4.27190940622e-07\n"
     ]
    }
   ],
   "source": [
    "range = np.array([-1., 1.], dtype=np.float64)\n",
    "(gauss_integral, none) = integrate.fixed_quad(func_rescale, range[0], range[1], args=(np.float64(1.),), n=20)\n",
    "print(gauss_integral)\n",
    "print(gauss_integral - 1.)"
   ]
  },
  {
   "cell_type": "markdown",
   "metadata": {},
   "source": [
    "But the method is quite bad if there is a singularity, as in $1/\\sqrt{1-x^2}$."
   ]
  },
  {
   "cell_type": "code",
   "execution_count": 92,
   "metadata": {
    "collapsed": true
   },
   "outputs": [],
   "source": [
    "def func_f(x=None):\n",
    "    return (1.)\n",
    "\n",
    "def func(x=None):\n",
    "    return (func_f(x) * (1. / np.sqrt(1. - x**2)))"
   ]
  },
  {
   "cell_type": "code",
   "execution_count": 94,
   "metadata": {
    "collapsed": false
   },
   "outputs": [
    {
     "name": "stdout",
     "output_type": "stream",
     "text": [
      "3.1123261028\n",
      "-0.0292665507855\n"
     ]
    }
   ],
   "source": [
    "range = np.array([-1., 1.], dtype=np.float64)\n",
    "(gauss_integral, none) = integrate.fixed_quad(func, range[0], range[1], n=59)\n",
    "print(gauss_integral)\n",
    "print(gauss_integral - np.pi)"
   ]
  },
  {
   "cell_type": "markdown",
   "metadata": {
    "collapsed": true
   },
   "source": [
    "Gauss-Chebyshev polynomials are the right thing to use for it."
   ]
  },
  {
   "cell_type": "code",
   "execution_count": 95,
   "metadata": {
    "collapsed": false
   },
   "outputs": [],
   "source": [
    "(x, weight) = np.polynomial.chebyshev.chebgauss(10)"
   ]
  },
  {
   "cell_type": "code",
   "execution_count": 96,
   "metadata": {
    "collapsed": false
   },
   "outputs": [
    {
     "name": "stdout",
     "output_type": "stream",
     "text": [
      "[ 0.98768834  0.89100652  0.70710678  0.4539905   0.15643447 -0.15643447\n",
      " -0.4539905  -0.70710678 -0.89100652 -0.98768834]\n"
     ]
    }
   ],
   "source": [
    "print(x)"
   ]
  },
  {
   "cell_type": "code",
   "execution_count": 97,
   "metadata": {
    "collapsed": false
   },
   "outputs": [
    {
     "name": "stdout",
     "output_type": "stream",
     "text": [
      "[ 0.31415927  0.31415927  0.31415927  0.31415927  0.31415927  0.31415927\n",
      "  0.31415927  0.31415927  0.31415927  0.31415927]\n"
     ]
    }
   ],
   "source": [
    "print(weight)"
   ]
  },
  {
   "cell_type": "code",
   "execution_count": 98,
   "metadata": {
    "collapsed": false
   },
   "outputs": [
    {
     "name": "stdout",
     "output_type": "stream",
     "text": [
      "3.14159265359\n",
      "0.0\n"
     ]
    }
   ],
   "source": [
    "gausscheb_integral = (func_f(x) * weight).sum()\n",
    "print(gausscheb_integral)\n",
    "print(gausscheb_integral - np.pi)"
   ]
  },
  {
   "cell_type": "markdown",
   "metadata": {
    "collapsed": true
   },
   "source": [
    "## A physical example: nuclear reaction rates"
   ]
  },
  {
   "cell_type": "markdown",
   "metadata": {},
   "source": [
    "We express the integrand in terms of $x= E/kT$. The integral can be parametrized by $E_c/kT$, where $E_c$ is a Coulomb energy related to when tunneling becomes possible."
   ]
  },
  {
   "cell_type": "code",
   "execution_count": 99,
   "metadata": {
    "collapsed": false
   },
   "outputs": [],
   "source": [
    "def r12_f(x=None, eckT=None):\n",
    "    return(1. * np.exp(- (eckT / x)**0.5))"
   ]
  },
  {
   "cell_type": "markdown",
   "metadata": {},
   "source": [
    "To test convergence, we use a high order and lower order Gauss-Laguerre set of weights."
   ]
  },
  {
   "cell_type": "code",
   "execution_count": 100,
   "metadata": {
    "collapsed": false
   },
   "outputs": [],
   "source": [
    "from numpy.polynomial.laguerre import laggauss\n",
    "(lg_x, lg_weights) = laggauss(100)\n",
    "(lg_x_50, lg_weights_50) = laggauss(50)"
   ]
  },
  {
   "cell_type": "code",
   "execution_count": 101,
   "metadata": {
    "collapsed": false
   },
   "outputs": [
    {
     "name": "stdout",
     "output_type": "stream",
     "text": [
      "0.634137783287\n"
     ]
    }
   ],
   "source": [
    "print((r12_f(x=lg_x, eckT=0.1) * lg_weights).sum())"
   ]
  },
  {
   "cell_type": "markdown",
   "metadata": {},
   "source": [
    "We will plot the integral as a function of $R= E_c/kT$."
   ]
  },
  {
   "cell_type": "code",
   "execution_count": 102,
   "metadata": {
    "collapsed": false
   },
   "outputs": [],
   "source": [
    "neckT = 300\n",
    "lneckT_range = np.log([0.1, 100000.])\n",
    "lneckT = lneckT_range[0] + (lneckT_range[1] - lneckT_range[0]) * np.arange(neckT) / (np.float64(neckT) - 1.)\n",
    "eckT = np.exp(lneckT)"
   ]
  },
  {
   "cell_type": "code",
   "execution_count": 103,
   "metadata": {
    "collapsed": true
   },
   "outputs": [],
   "source": [
    "r12 = np.zeros(neckT)\n",
    "for indx in np.arange(neckT, dtype=np.int32):\n",
    "    r12[indx] = (r12_f(lg_x, eckT=eckT[indx]) * lg_weights).sum()"
   ]
  },
  {
   "cell_type": "code",
   "execution_count": 104,
   "metadata": {
    "collapsed": true
   },
   "outputs": [],
   "source": [
    "r12_50 = np.zeros(neckT)\n",
    "for indx in np.arange(neckT, dtype=np.int32):\n",
    "    r12_50[indx] = (r12_f(lg_x_50, eckT=eckT[indx]) * lg_weights_50).sum()"
   ]
  },
  {
   "cell_type": "code",
   "execution_count": 105,
   "metadata": {
    "collapsed": false
   },
   "outputs": [
    {
     "data": {
      "text/plain": [
       "<matplotlib.text.Text at 0x10ee87f60>"
      ]
     },
     "execution_count": 105,
     "metadata": {},
     "output_type": "execute_result"
    },
    {
     "data": {
      "image/png": "[encoded data removed]",
      "text/plain": [
       "<matplotlib.figure.Figure at 0x10eb370f0>"
      ]
     },
     "metadata": {},
     "output_type": "display_data"
    }
   ],
   "source": [
    "plt.plot(np.log10(eckT), np.log10(r12))\n",
    "plt.xlabel('log$_{10}$ R')\n",
    "plt.ylabel('log$_{10}$ I(R)')"
   ]
  },
  {
   "cell_type": "code",
   "execution_count": 44,
   "metadata": {
    "collapsed": false
   },
   "outputs": [
    {
     "data": {
      "text/plain": [
       "<matplotlib.text.Text at 0x10df7fc50>"
      ]
     },
     "execution_count": 44,
     "metadata": {},
     "output_type": "execute_result"
    },
    {
     "data": {
      "image/png": "[encoded data removed]",
      "text/plain": [
       "<matplotlib.figure.Figure at 0x10db44eb8>"
      ]
     },
     "metadata": {},
     "output_type": "display_data"
    }
   ],
   "source": [
    "plt.plot(np.log10(eckT), np.log10(r12_50))\n",
    "plt.xlabel('log$_{10}$ R')\n",
    "plt.ylabel('log$_{10}$ I(R)')"
   ]
  },
  {
   "cell_type": "markdown",
   "metadata": {},
   "source": [
    "And we can see how well it is converging, which in this case is reasonably well near the typical value at the center of a star of $R\\sim 1000$."
   ]
  },
  {
   "cell_type": "code",
   "execution_count": 106,
   "metadata": {
    "collapsed": false
   },
   "outputs": [
    {
     "data": {
      "text/plain": [
       "<matplotlib.text.Text at 0x121860550>"
      ]
     },
     "execution_count": 106,
     "metadata": {},
     "output_type": "execute_result"
    },
    {
     "data": {
      "image/png": "[encoded data removed]",
      "text/plain": [
       "<matplotlib.figure.Figure at 0x1218a8d68>"
      ]
     },
     "metadata": {},
     "output_type": "display_data"
    }
   ],
   "source": [
    "plt.plot(np.log10(eckT), np.log10(np.abs((r12_50 - r12) / r12)))\n",
    "plt.xlabel('log$_{10}$ R')\n",
    "plt.ylabel('log$_{10}$ (I$_{50}$(R) - I$_{100}$(R)) / I$_{100}$(R)')"
   ]
  },
  {
   "cell_type": "markdown",
   "metadata": {},
   "source": [
    "Now we can plot the actual reaction rate per each type of particle as a function of $kT/E_c$, with the weighting by $\\sqrt{E_c/kT}$."
   ]
  },
  {
   "cell_type": "code",
   "execution_count": 107,
   "metadata": {
    "collapsed": false
   },
   "outputs": [
    {
     "data": {
      "text/plain": [
       "<matplotlib.text.Text at 0x121a385f8>"
      ]
     },
     "execution_count": 107,
     "metadata": {},
     "output_type": "execute_result"
    },
    {
     "data": {
      "image/png": "[encoded data removed]",
      "text/plain": [
       "<matplotlib.figure.Figure at 0x12187c860>"
      ]
     },
     "metadata": {},
     "output_type": "display_data"
    }
   ],
   "source": [
    "plt.plot(np.log10(1. / eckT), np.log10(r12 * np.sqrt(eckT)))\n",
    "plt.xlabel('log$_{10}$ 1 / R')\n",
    "plt.ylabel('log$_{10}$ $\\sqrt{R}$ I(R)')"
   ]
  },
  {
   "cell_type": "markdown",
   "metadata": {},
   "source": [
    "Zooming in, we can see that in the relevant range it is a very steep function of temperature. This is what makes the core of stars very stable; a very slight increase in temperature (due to a slight compression of the gas) will generate more energy and push the star back to its previous density."
   ]
  },
  {
   "cell_type": "code",
   "execution_count": 108,
   "metadata": {
    "collapsed": false
   },
   "outputs": [
    {
     "data": {
      "text/plain": [
       "<matplotlib.text.Text at 0x121db35c0>"
      ]
     },
     "execution_count": 108,
     "metadata": {},
     "output_type": "execute_result"
    },
    {
     "data": {
      "image/png": "[encoded data removed]",
      "text/plain": [
       "<matplotlib.figure.Figure at 0x121aca358>"
      ]
     },
     "metadata": {},
     "output_type": "display_data"
    }
   ],
   "source": [
    "plt.plot(np.log10(1. / eckT), np.log10(r12 * np.sqrt(eckT)))\n",
    "plt.xlim((-3.5, -2.5))\n",
    "plt.ylim((-10, -3.))\n",
    "plt.xlabel('log$_{10}$ 1 / R')\n",
    "plt.ylabel('log$_{10}$ $\\sqrt{R}$ I(R)')"
   ]
  },
  {
   "cell_type": "markdown",
   "metadata": {
    "collapsed": true
   },
   "source": [
    "## Monte Carlo methods"
   ]
  },
  {
   "cell_type": "markdown",
   "metadata": {
    "collapsed": true
   },
   "source": [
    "Mean value integration is the simplest practical Monte Carlo method. These methods in general are not cost-effective in low numbers of dimensions, but are so for higher dimensional integrals."
   ]
  },
  {
   "cell_type": "code",
   "execution_count": 109,
   "metadata": {
    "collapsed": true
   },
   "outputs": [],
   "source": [
    "def func_1d_gauss(x=None, sigma=1., mean=0.):\n",
    "    return(np.exp(- 0.5 * (x - mean)**2 / sigma**2) / np.sqrt(2. * np.pi) / sigma)"
   ]
  },
  {
   "cell_type": "code",
   "execution_count": 110,
   "metadata": {
    "collapsed": false
   },
   "outputs": [
    {
     "name": "stdout",
     "output_type": "stream",
     "text": [
      "1.0\n",
      "0.999112735374\n",
      "0.000887264626294\n"
     ]
    }
   ],
   "source": [
    "num = 1000000\n",
    "real_integral = 1.\n",
    "prange = [- 5., 5.]\n",
    "xrandom = prange[0] + (prange[1] - prange[0]) * np.random.random(size=num)\n",
    "mc_integral = (prange[1] - prange[0]) * func_1d_gauss(xrandom).sum() / np.float64(num) \n",
    "print(real_integral)\n",
    "print(mc_integral)\n",
    "print(real_integral - mc_integral)"
   ]
  },
  {
   "cell_type": "code",
   "execution_count": 86,
   "metadata": {
    "collapsed": true
   },
   "outputs": [],
   "source": [
    "def func_6d_gauss(x=None, sigma=np.ones(6), mean=np.zeros(6)):\n",
    "    ndim = 6\n",
    "    xp = np.zeros(x.shape[1])\n",
    "    for indx in np.arange(ndim):\n",
    "        xp = xp + ((x[indx, :] - mean[indx]) / sigma[indx])**2\n",
    "    denom = 1.\n",
    "    for indx in np.arange(ndim):\n",
    "        denom = denom * sigma[indx]\n",
    "    return(np.exp(- 0.5 * xp) / np.sqrt(2. * np.pi)**ndim / denom)"
   ]
  },
  {
   "cell_type": "code",
   "execution_count": 91,
   "metadata": {
    "collapsed": false
   },
   "outputs": [
    {
     "name": "stdout",
     "output_type": "stream",
     "text": [
      "1.0\n",
      "1.00199471721\n",
      "-0.00199471720565\n"
     ]
    }
   ],
   "source": [
    "num = 10000000\n",
    "real_integral = 1.\n",
    "prange = [- 5., 5.]\n",
    "xrandom = prange[0] + (prange[1] - prange[0]) * np.random.random(size=(6, num))\n",
    "mc_integral = (prange[1] - prange[0])**6 * func_6d_gauss(x=xrandom).sum() / np.float64(num) \n",
    "print(real_integral)\n",
    "print(mc_integral)\n",
    "print(real_integral - mc_integral)"
   ]
  },
  {
   "cell_type": "code",
   "execution_count": null,
   "metadata": {
    "collapsed": true
   },
   "outputs": [],
   "source": []
  },
  {
   "cell_type": "code",
   "execution_count": null,
   "metadata": {
    "collapsed": true
   },
   "outputs": [],
   "source": []
  }
 ],
 "metadata": {
  "kernelspec": {
   "display_name": "Python 3",
   "language": "python",
   "name": "python3"
  },
  "language_info": {
   "codemirror_mode": {
    "name": "ipython",
    "version": 3
   },
   "file_extension": ".py",
   "mimetype": "text/x-python",
   "name": "python",
   "nbconvert_exporter": "python",
   "pygments_lexer": "ipython3",
   "version": "3.5.2"
  }
 },
 "nbformat": 4,
 "nbformat_minor": 2
}
